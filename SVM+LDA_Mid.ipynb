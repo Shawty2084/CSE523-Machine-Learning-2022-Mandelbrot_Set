{
  "nbformat": 4,
  "nbformat_minor": 0,
  "metadata": {
    "colab": {
      "provenance": [],
      "include_colab_link": true
    },
    "kernelspec": {
      "name": "python3",
      "display_name": "Python 3"
    },
    "language_info": {
      "name": "python"
    }
  },
  "cells": [
    {
      "cell_type": "markdown",
      "metadata": {
        "id": "view-in-github",
        "colab_type": "text"
      },
      "source": [
        "<a href=\"https://colab.research.google.com/github/Shawty2084/CSE523-Machine-Learning-2022-Mandelbrot_Set/blob/main/SVM%2BLDA_Mid.ipynb\" target=\"_parent\"><img src=\"https://colab.research.google.com/assets/colab-badge.svg\" alt=\"Open In Colab\"/></a>"
      ]
    },
    {
      "cell_type": "code",
      "execution_count": 1,
      "metadata": {
        "id": "yQQqWB0QNrfP"
      },
      "outputs": [],
      "source": [
        "import numpy as np\n",
        "import pandas as pd\n",
        "import glob\n",
        "import os"
      ]
    },
    {
      "cell_type": "code",
      "source": [
        "dir = os.chdir(\"/content/drive/MyDrive/Colab Notebooks/BBC_Data\")\n",
        "print(f'Directory change to {os.getcwd()}')"
      ],
      "metadata": {
        "colab": {
          "base_uri": "https://localhost:8080/"
        },
        "id": "Or8enVFLN3Vp",
        "outputId": "9c084109-dbe1-4833-9ae7-cec324033696"
      },
      "execution_count": 2,
      "outputs": [
        {
          "output_type": "stream",
          "name": "stdout",
          "text": [
            "Directory change to /content/drive/MyDrive/Colab Notebooks/BBC_Data\n"
          ]
        }
      ]
    },
    {
      "cell_type": "code",
      "source": [
        "from google.colab import drive\n",
        "drive.mount('/content/drive')"
      ],
      "metadata": {
        "colab": {
          "base_uri": "https://localhost:8080/"
        },
        "id": "o__PzNCMuKnx",
        "outputId": "c520996e-6feb-4626-c7a6-4fbf406c06e7"
      },
      "execution_count": 3,
      "outputs": [
        {
          "output_type": "stream",
          "name": "stdout",
          "text": [
            "Drive already mounted at /content/drive; to attempt to forcibly remount, call drive.mount(\"/content/drive\", force_remount=True).\n"
          ]
        }
      ]
    },
    {
      "cell_type": "code",
      "source": [
        "def import_data(folders_n, def_path):\n",
        "  filename = [path + \"/News Articles/\" + folder + \"/\" + \"*.txt\"\n",
        "     for path,folder in zip([def_path]*len(folders_n), folders_n)]\n",
        "  temp_doc = []\n",
        "  print(filename)\n",
        "  # tags \n",
        "  for x in filename:\n",
        "    data = glob.glob(x) \n",
        "    for y in data:\n",
        "      with open(y, encoding=\"latin-1\") as f:\n",
        "        topic = x.split('/')[len(x.split('/'))-2] \n",
        "        # print('me',topic)\n",
        "        line = f.readlines()\n",
        "        # head = line[0].strip()\n",
        "        body = ''.join([l.strip() for l in line[1:]])\n",
        "        temp_doc.append([topic,body])\n",
        "    print(f\"Loading data from \\033[1m{topic}\\033[0m directory\")\n",
        "    print(\"\\nEntire Data is loaded successfully\")\n",
        "\n",
        "  return temp_doc"
      ],
      "metadata": {
        "id": "p11US1m5N5os"
      },
      "execution_count": 4,
      "outputs": []
    },
    {
      "cell_type": "code",
      "source": [
        "folders_n = ['business','entertainment','politics','sport','tech']\n",
        "doc = import_data(folders_n = folders_n, def_path = os.getcwd())\n",
        "# docs = load_data(folder_names = folders_n, root_path = os.getcwd())\n"
      ],
      "metadata": {
        "colab": {
          "base_uri": "https://localhost:8080/"
        },
        "id": "7BNxF7EkN6dG",
        "outputId": "35058928-5c7d-4a6e-91ea-6d5bf21e1cca"
      },
      "execution_count": 5,
      "outputs": [
        {
          "output_type": "stream",
          "name": "stdout",
          "text": [
            "['/content/drive/My Drive/Colab Notebooks/BBC_Data/News Articles/business/*.txt', '/content/drive/My Drive/Colab Notebooks/BBC_Data/News Articles/entertainment/*.txt', '/content/drive/My Drive/Colab Notebooks/BBC_Data/News Articles/politics/*.txt', '/content/drive/My Drive/Colab Notebooks/BBC_Data/News Articles/sport/*.txt', '/content/drive/My Drive/Colab Notebooks/BBC_Data/News Articles/tech/*.txt']\n",
            "Loading data from \u001b[1mbusiness\u001b[0m directory\n",
            "\n",
            "Entire Data is loaded successfully\n",
            "Loading data from \u001b[1mentertainment\u001b[0m directory\n",
            "\n",
            "Entire Data is loaded successfully\n",
            "Loading data from \u001b[1mpolitics\u001b[0m directory\n",
            "\n",
            "Entire Data is loaded successfully\n",
            "Loading data from \u001b[1msport\u001b[0m directory\n",
            "\n",
            "Entire Data is loaded successfully\n",
            "Loading data from \u001b[1mtech\u001b[0m directory\n",
            "\n",
            "Entire Data is loaded successfully\n"
          ]
        }
      ]
    },
    {
      "cell_type": "code",
      "source": [
        "# print(type(doc))\n",
        "doc1 = pd.DataFrame(doc, columns = ['category','text'])\n",
        "length = len(doc1)\n",
        "# print(length)\n",
        "doc1.head(length)\n",
        "# print(doc1)"
      ],
      "metadata": {
        "colab": {
          "base_uri": "https://localhost:8080/",
          "height": 423
        },
        "id": "90C0WJkXONSM",
        "outputId": "2f12c7c2-7ec0-42a2-f289-2f1f5b08fe2f"
      },
      "execution_count": 6,
      "outputs": [
        {
          "output_type": "execute_result",
          "data": {
            "text/plain": [
              "      category                                               text\n",
              "0     business  Ethiopia produced 14.27 million tonnes of crop...\n",
              "1     business  Ask Jeeves has become the third leading online...\n",
              "2     business  Budget airline Ryanair has placed an order for...\n",
              "3     business  Crude oil prices surged back above the $47 a b...\n",
              "4     business  Revenues at media group Reuters slipped 11% du...\n",
              "...        ...                                                ...\n",
              "2220      tech  Now that a critical mass of people have embrac...\n",
              "2221      tech  Video games on consoles and computers proved m...\n",
              "2222      tech  Mobile phones are still enjoying a boom time i...\n",
              "2223      tech  Music and film fans will be able to control th...\n",
              "2224      tech  Cyberspace is becoming a very popular destinat...\n",
              "\n",
              "[2225 rows x 2 columns]"
            ],
            "text/html": [
              "\n",
              "  <div id=\"df-420f1b55-cfb7-4504-a6fa-4d77810b8de8\">\n",
              "    <div class=\"colab-df-container\">\n",
              "      <div>\n",
              "<style scoped>\n",
              "    .dataframe tbody tr th:only-of-type {\n",
              "        vertical-align: middle;\n",
              "    }\n",
              "\n",
              "    .dataframe tbody tr th {\n",
              "        vertical-align: top;\n",
              "    }\n",
              "\n",
              "    .dataframe thead th {\n",
              "        text-align: right;\n",
              "    }\n",
              "</style>\n",
              "<table border=\"1\" class=\"dataframe\">\n",
              "  <thead>\n",
              "    <tr style=\"text-align: right;\">\n",
              "      <th></th>\n",
              "      <th>category</th>\n",
              "      <th>text</th>\n",
              "    </tr>\n",
              "  </thead>\n",
              "  <tbody>\n",
              "    <tr>\n",
              "      <th>0</th>\n",
              "      <td>business</td>\n",
              "      <td>Ethiopia produced 14.27 million tonnes of crop...</td>\n",
              "    </tr>\n",
              "    <tr>\n",
              "      <th>1</th>\n",
              "      <td>business</td>\n",
              "      <td>Ask Jeeves has become the third leading online...</td>\n",
              "    </tr>\n",
              "    <tr>\n",
              "      <th>2</th>\n",
              "      <td>business</td>\n",
              "      <td>Budget airline Ryanair has placed an order for...</td>\n",
              "    </tr>\n",
              "    <tr>\n",
              "      <th>3</th>\n",
              "      <td>business</td>\n",
              "      <td>Crude oil prices surged back above the $47 a b...</td>\n",
              "    </tr>\n",
              "    <tr>\n",
              "      <th>4</th>\n",
              "      <td>business</td>\n",
              "      <td>Revenues at media group Reuters slipped 11% du...</td>\n",
              "    </tr>\n",
              "    <tr>\n",
              "      <th>...</th>\n",
              "      <td>...</td>\n",
              "      <td>...</td>\n",
              "    </tr>\n",
              "    <tr>\n",
              "      <th>2220</th>\n",
              "      <td>tech</td>\n",
              "      <td>Now that a critical mass of people have embrac...</td>\n",
              "    </tr>\n",
              "    <tr>\n",
              "      <th>2221</th>\n",
              "      <td>tech</td>\n",
              "      <td>Video games on consoles and computers proved m...</td>\n",
              "    </tr>\n",
              "    <tr>\n",
              "      <th>2222</th>\n",
              "      <td>tech</td>\n",
              "      <td>Mobile phones are still enjoying a boom time i...</td>\n",
              "    </tr>\n",
              "    <tr>\n",
              "      <th>2223</th>\n",
              "      <td>tech</td>\n",
              "      <td>Music and film fans will be able to control th...</td>\n",
              "    </tr>\n",
              "    <tr>\n",
              "      <th>2224</th>\n",
              "      <td>tech</td>\n",
              "      <td>Cyberspace is becoming a very popular destinat...</td>\n",
              "    </tr>\n",
              "  </tbody>\n",
              "</table>\n",
              "<p>2225 rows × 2 columns</p>\n",
              "</div>\n",
              "      <button class=\"colab-df-convert\" onclick=\"convertToInteractive('df-420f1b55-cfb7-4504-a6fa-4d77810b8de8')\"\n",
              "              title=\"Convert this dataframe to an interactive table.\"\n",
              "              style=\"display:none;\">\n",
              "        \n",
              "  <svg xmlns=\"http://www.w3.org/2000/svg\" height=\"24px\"viewBox=\"0 0 24 24\"\n",
              "       width=\"24px\">\n",
              "    <path d=\"M0 0h24v24H0V0z\" fill=\"none\"/>\n",
              "    <path d=\"M18.56 5.44l.94 2.06.94-2.06 2.06-.94-2.06-.94-.94-2.06-.94 2.06-2.06.94zm-11 1L8.5 8.5l.94-2.06 2.06-.94-2.06-.94L8.5 2.5l-.94 2.06-2.06.94zm10 10l.94 2.06.94-2.06 2.06-.94-2.06-.94-.94-2.06-.94 2.06-2.06.94z\"/><path d=\"M17.41 7.96l-1.37-1.37c-.4-.4-.92-.59-1.43-.59-.52 0-1.04.2-1.43.59L10.3 9.45l-7.72 7.72c-.78.78-.78 2.05 0 2.83L4 21.41c.39.39.9.59 1.41.59.51 0 1.02-.2 1.41-.59l7.78-7.78 2.81-2.81c.8-.78.8-2.07 0-2.86zM5.41 20L4 18.59l7.72-7.72 1.47 1.35L5.41 20z\"/>\n",
              "  </svg>\n",
              "      </button>\n",
              "      \n",
              "  <style>\n",
              "    .colab-df-container {\n",
              "      display:flex;\n",
              "      flex-wrap:wrap;\n",
              "      gap: 12px;\n",
              "    }\n",
              "\n",
              "    .colab-df-convert {\n",
              "      background-color: #E8F0FE;\n",
              "      border: none;\n",
              "      border-radius: 50%;\n",
              "      cursor: pointer;\n",
              "      display: none;\n",
              "      fill: #1967D2;\n",
              "      height: 32px;\n",
              "      padding: 0 0 0 0;\n",
              "      width: 32px;\n",
              "    }\n",
              "\n",
              "    .colab-df-convert:hover {\n",
              "      background-color: #E2EBFA;\n",
              "      box-shadow: 0px 1px 2px rgba(60, 64, 67, 0.3), 0px 1px 3px 1px rgba(60, 64, 67, 0.15);\n",
              "      fill: #174EA6;\n",
              "    }\n",
              "\n",
              "    [theme=dark] .colab-df-convert {\n",
              "      background-color: #3B4455;\n",
              "      fill: #D2E3FC;\n",
              "    }\n",
              "\n",
              "    [theme=dark] .colab-df-convert:hover {\n",
              "      background-color: #434B5C;\n",
              "      box-shadow: 0px 1px 3px 1px rgba(0, 0, 0, 0.15);\n",
              "      filter: drop-shadow(0px 1px 2px rgba(0, 0, 0, 0.3));\n",
              "      fill: #FFFFFF;\n",
              "    }\n",
              "  </style>\n",
              "\n",
              "      <script>\n",
              "        const buttonEl =\n",
              "          document.querySelector('#df-420f1b55-cfb7-4504-a6fa-4d77810b8de8 button.colab-df-convert');\n",
              "        buttonEl.style.display =\n",
              "          google.colab.kernel.accessAllowed ? 'block' : 'none';\n",
              "\n",
              "        async function convertToInteractive(key) {\n",
              "          const element = document.querySelector('#df-420f1b55-cfb7-4504-a6fa-4d77810b8de8');\n",
              "          const dataTable =\n",
              "            await google.colab.kernel.invokeFunction('convertToInteractive',\n",
              "                                                     [key], {});\n",
              "          if (!dataTable) return;\n",
              "\n",
              "          const docLinkHtml = 'Like what you see? Visit the ' +\n",
              "            '<a target=\"_blank\" href=https://colab.research.google.com/notebooks/data_table.ipynb>data table notebook</a>'\n",
              "            + ' to learn more about interactive tables.';\n",
              "          element.innerHTML = '';\n",
              "          dataTable['output_type'] = 'display_data';\n",
              "          await google.colab.output.renderOutput(dataTable, element);\n",
              "          const docLink = document.createElement('div');\n",
              "          docLink.innerHTML = docLinkHtml;\n",
              "          element.appendChild(docLink);\n",
              "        }\n",
              "      </script>\n",
              "    </div>\n",
              "  </div>\n",
              "  "
            ]
          },
          "metadata": {},
          "execution_count": 6
        }
      ]
    },
    {
      "cell_type": "code",
      "source": [
        "import nltk\n",
        "from nltk.corpus import stopwords\n",
        "from nltk.stem import WordNetLemmatizer\n",
        "import string\n",
        "\n",
        "# download necessary resources for NLTK\n",
        "nltk.download('stopwords')\n",
        "nltk.download('wordnet')\n",
        "nltk.download('omw-1.4')"
      ],
      "metadata": {
        "colab": {
          "base_uri": "https://localhost:8080/"
        },
        "id": "xicMwbTlR9c2",
        "outputId": "c80b863a-6e48-4bae-d2a9-88d12c8a9694"
      },
      "execution_count": 7,
      "outputs": [
        {
          "output_type": "stream",
          "name": "stderr",
          "text": [
            "[nltk_data] Downloading package stopwords to /root/nltk_data...\n",
            "[nltk_data]   Package stopwords is already up-to-date!\n",
            "[nltk_data] Downloading package wordnet to /root/nltk_data...\n",
            "[nltk_data]   Package wordnet is already up-to-date!\n",
            "[nltk_data] Downloading package omw-1.4 to /root/nltk_data...\n",
            "[nltk_data]   Package omw-1.4 is already up-to-date!\n"
          ]
        },
        {
          "output_type": "execute_result",
          "data": {
            "text/plain": [
              "True"
            ]
          },
          "metadata": {},
          "execution_count": 7
        }
      ]
    },
    {
      "cell_type": "code",
      "source": [
        "lemmatizer = WordNetLemmatizer()\n",
        "stop_words = set(stopwords.words('english'))\n",
        "\n",
        "def preprocess_text(text):\n",
        "    text = text.lower()\n",
        "    text = text.translate(str.maketrans('', '', string.punctuation))\n",
        "    tokens = text.split()\n",
        "    tokens = [word for word in tokens if word not in stop_words]\n",
        "    tokens = [lemmatizer.lemmatize(word) for word in tokens]\n",
        "    text = ' '.join(tokens)\n",
        "    return text\n",
        "\n",
        "doc1['text_processed'] = doc1['text'].apply(preprocess_text)\n",
        "print(doc1['text'])\n"
      ],
      "metadata": {
        "colab": {
          "base_uri": "https://localhost:8080/"
        },
        "id": "Du8OhlbHRm7z",
        "outputId": "304dbed0-c0e6-4e90-92f2-26f2523144f4"
      },
      "execution_count": 8,
      "outputs": [
        {
          "output_type": "stream",
          "name": "stdout",
          "text": [
            "0       Ethiopia produced 14.27 million tonnes of crop...\n",
            "1       Ask Jeeves has become the third leading online...\n",
            "2       Budget airline Ryanair has placed an order for...\n",
            "3       Crude oil prices surged back above the $47 a b...\n",
            "4       Revenues at media group Reuters slipped 11% du...\n",
            "                              ...                        \n",
            "2220    Now that a critical mass of people have embrac...\n",
            "2221    Video games on consoles and computers proved m...\n",
            "2222    Mobile phones are still enjoying a boom time i...\n",
            "2223    Music and film fans will be able to control th...\n",
            "2224    Cyberspace is becoming a very popular destinat...\n",
            "Name: text, Length: 2225, dtype: object\n"
          ]
        }
      ]
    },
    {
      "cell_type": "code",
      "source": [
        "import pandas as pd\n",
        "import numpy as np\n",
        "from sklearn.feature_extraction.text import CountVectorizer\n",
        "from sklearn.decomposition import LatentDirichletAllocation\n",
        "from sklearn.model_selection import train_test_split\n",
        "from sklearn.metrics import accuracy_score\n"
      ],
      "metadata": {
        "id": "N5WX_ODXtMxc"
      },
      "execution_count": 9,
      "outputs": []
    },
    {
      "cell_type": "code",
      "source": [
        "df = doc1\n",
        "X_train, X_test, y_train, y_test = train_test_split(df['text'], df['category'], test_size=0.2, random_state=42)\n",
        "print(\"X_train\",X_train.head(2), \"\\n\")\n",
        "print(\"X_test\",X_test.head(2), \"\\n\")\n",
        "print(\"y_train\", y_train.head(2), \"\\n\")\n",
        "print(\"y_test\", y_test.head(2), \"\\n\")\n",
        "print((X_train), X_test, y_train, y_test)\n"
      ],
      "metadata": {
        "id": "CVtDU7fXuqgv",
        "colab": {
          "base_uri": "https://localhost:8080/"
        },
        "outputId": "b7ea2cf8-19aa-4db4-d880-766c93667b93"
      },
      "execution_count": 10,
      "outputs": [
        {
          "output_type": "stream",
          "name": "stdout",
          "text": [
            "X_train 1490    New Southampton manager Harry Redknapp faces a...\n",
            "2001    A new European directive could put software wr...\n",
            "Name: text, dtype: object \n",
            "\n",
            "X_test 414    A former FBI agent and an internet stock picke...\n",
            "420    India has signed a $40bn (Â£21bn) deal to impo...\n",
            "Name: text, dtype: object \n",
            "\n",
            "y_train 1490    sport\n",
            "2001     tech\n",
            "Name: category, dtype: object \n",
            "\n",
            "y_test 414    business\n",
            "420    business\n",
            "Name: category, dtype: object \n",
            "\n",
            "1490    New Southampton manager Harry Redknapp faces a...\n",
            "2001    A new European directive could put software wr...\n",
            "1572    Joint assistant boss Stuart Pearce has admitte...\n",
            "1840    Sony's Playstation Portable is the top gadget ...\n",
            "610     The late US legend Elvis Presley is likely to ...\n",
            "                              ...                        \n",
            "1638    Bolton boss Sam Allardyce has signed Roma defe...\n",
            "1095    A \"taxpayer subsidised propaganda exercise\" on...\n",
            "1130    Three Labour councillors in Birmingham were ca...\n",
            "1294    People vulnerable to problem debts should be a...\n",
            "860     Sir Paul McCartney wowed fans with a live mini...\n",
            "Name: text, Length: 1780, dtype: object 414     A former FBI agent and an internet stock picke...\n",
            "420     India has signed a $40bn (Â£21bn) deal to impo...\n",
            "1644    England captain Jonny Wilkinson will make his ...\n",
            "416     The EU and US have agreed to begin talks on en...\n",
            "1232    A Conservative MP and former minister has defe...\n",
            "                              ...                        \n",
            "741     The Aviator has been tipped by UK bookmakers a...\n",
            "205     Shares in Google have fallen 6.7% after employ...\n",
            "1102    Two days of talks on the future of Gibraltar b...\n",
            "668     Joss Stone, a 17-year-old soul singer from Dev...\n",
            "479     An executive at US insurance firm Marsh & McLe...\n",
            "Name: text, Length: 445, dtype: object 1490            sport\n",
            "2001             tech\n",
            "1572            sport\n",
            "1840             tech\n",
            "610     entertainment\n",
            "            ...      \n",
            "1638            sport\n",
            "1095         politics\n",
            "1130         politics\n",
            "1294         politics\n",
            "860     entertainment\n",
            "Name: category, Length: 1780, dtype: object 414          business\n",
            "420          business\n",
            "1644            sport\n",
            "416          business\n",
            "1232         politics\n",
            "            ...      \n",
            "741     entertainment\n",
            "205          business\n",
            "1102         politics\n",
            "668     entertainment\n",
            "479          business\n",
            "Name: category, Length: 445, dtype: object\n"
          ]
        }
      ]
    },
    {
      "cell_type": "code",
      "source": [
        "\n",
        "vectorizer = CountVectorizer(stop_words='english')\n",
        "X_train = vectorizer.fit_transform(X_train)\n",
        "X_test = vectorizer.transform(X_test)\n",
        "print(vectorizer)"
      ],
      "metadata": {
        "colab": {
          "base_uri": "https://localhost:8080/"
        },
        "id": "aa6IZC49x2QZ",
        "outputId": "399cea34-b19e-49fc-fcf2-da7af4ed99ab"
      },
      "execution_count": 11,
      "outputs": [
        {
          "output_type": "stream",
          "name": "stdout",
          "text": [
            "CountVectorizer(stop_words='english')\n"
          ]
        }
      ]
    },
    {
      "cell_type": "code",
      "source": [
        "lda = LatentDirichletAllocation(n_components=5, random_state=42)\n",
        "X_train_lda = lda.fit_transform(X_train)\n",
        "X_test_lda = lda.transform(X_test)\n",
        "# print(type(X_train_lda))\n",
        "print(len(X_train_lda), len(X_test_lda))"
      ],
      "metadata": {
        "colab": {
          "base_uri": "https://localhost:8080/"
        },
        "id": "t4kXU7GD0nn2",
        "outputId": "c7715917-3661-4cf6-ce03-a6a802a269bb"
      },
      "execution_count": 12,
      "outputs": [
        {
          "output_type": "stream",
          "name": "stdout",
          "text": [
            "1780 445\n"
          ]
        }
      ]
    },
    {
      "cell_type": "code",
      "source": [
        "from sklearn.svm import SVC\n",
        "def svm_model(kernel, C):\n",
        "  svm = SVC(kernel=kernel, C=C)\n",
        "  # print(C)\n",
        "  # if C ==300:\n",
        "    # print(C)\n",
        "  svm.fit(X_train_lda, y_train)\n",
        "  return(svm)\n",
        "  \n"
      ],
      "metadata": {
        "id": "BH9-N-ZD0n1d"
      },
      "execution_count": 13,
      "outputs": []
    },
    {
      "cell_type": "code",
      "source": [
        "kernel_mod = ['linear', 'sigmoid', 'rbf', 'poly']\n",
        "accuracy_list = []\n",
        "max_acc, max_k, max_C = 0, 0, 0"
      ],
      "metadata": {
        "id": "CWWhJDrXLyQF"
      },
      "execution_count": 14,
      "outputs": []
    },
    {
      "cell_type": "code",
      "source": [
        "for k in kernel_mod:\n",
        "  # print(k)\n",
        "  for c_range in range(1,300):\n",
        "    if k == 'poly' and c_range == 26:\n",
        "      break\n",
        "    svm = svm_model(k, c_range)\n",
        "    # svm.fit(X_train_lda, y_train)\n",
        "    y_pred = svm.predict(X_test_lda)\n",
        "    accuracy = accuracy_score(y_test, y_pred)\n",
        "    max_acc = max(max_acc, accuracy)\n",
        "    if max_acc == accuracy:\n",
        "      max_k = k\n",
        "      max_C = c_range\n",
        "  accuracy_list.append(max_acc)\n",
        "    # accuracy_list.append(accuracy)\n",
        "  # print(\"Accuracy:\", accuracy)\n",
        "# print(y_pred)\n",
        "print(accuracy_list)\n",
        "# print(len(y_pred))"
      ],
      "metadata": {
        "colab": {
          "base_uri": "https://localhost:8080/"
        },
        "id": "_bCSaEK40n_k",
        "outputId": "0c4e7659-f31d-47f0-9a89-774c55e27493"
      },
      "execution_count": 15,
      "outputs": [
        {
          "output_type": "stream",
          "name": "stdout",
          "text": [
            "[0.8921348314606742, 0.8921348314606742, 0.9056179775280899, 0.9056179775280899]\n"
          ]
        }
      ]
    },
    {
      "cell_type": "code",
      "source": [
        "print(max(accuracy_list))\n",
        "print(max_C,max_k)"
      ],
      "metadata": {
        "colab": {
          "base_uri": "https://localhost:8080/"
        },
        "id": "xS5IcqmrWkAO",
        "outputId": "cf70fa0c-387a-4a2e-dea8-fe46385f23fc"
      },
      "execution_count": 16,
      "outputs": [
        {
          "output_type": "stream",
          "name": "stdout",
          "text": [
            "0.9056179775280899\n",
            "296 rbf\n"
          ]
        }
      ]
    },
    {
      "cell_type": "code",
      "source": [
        "accuracy = accuracy_score(y_test, y_pred)\n",
        "print(\"Accuracy:\", accuracy)\n"
      ],
      "metadata": {
        "colab": {
          "base_uri": "https://localhost:8080/"
        },
        "id": "afCWYSLh0oJa",
        "outputId": "b08fa566-241a-4f07-823a-439dad300496"
      },
      "execution_count": 18,
      "outputs": [
        {
          "output_type": "stream",
          "name": "stdout",
          "text": [
            "Accuracy: 0.8853932584269663\n"
          ]
        }
      ]
    },
    {
      "cell_type": "code",
      "source": [
        "def predict_category(text):\n",
        "    text_tf = vectorizer.transform([text])\n",
        "    \n",
        "    topic_dist = lda.transform(text_tf)\n",
        "    \n",
        "    category = svm.predict(topic_dist)\n",
        "    \n",
        "    return category\n",
        "\n"
      ],
      "metadata": {
        "id": "y8t3WfwStYuQ"
      },
      "execution_count": 19,
      "outputs": []
    },
    {
      "cell_type": "code",
      "source": [
        "text1 = \"Britain's stock market has lost its position as Europe's most-valued, with France taking the top spot, data shows.A weak pound, fears of recession in the UK and surging sales at French luxury goods makers are thought to be behind the shift, according to data from Bloomberg.\"\n",
        "text2 = \"The firm, which is now one of the biggest investors in Google, benefited from sales of high-speed internet connections and higher advert sales. TimeWarner said fourth quarter sales rose 2% to $11.1bn from $10.9bn. Its profits were buoyed by one-off gains which offset a profit dip at Warner Bros, and less users for AOL.\"\n",
        "text3 = \"The government just announced a new policy on immigration.\"\n",
        "text4  = \"Piero, named after the Italian painter and pioneer of perspective Piero della Francesco, creates a virtual stadium in which virtual players can be tracked from almost any angle. Viewers will be able to see precisely how the ball was thrown and by whom, giving a greater depth to the growing wealth of analysis available during sports broadcasts. The technology has been created by BBC Research and Development for BBC Broadcast and BBC Outside Broadcasts. BBC Sport is the first client to start using the system.   In order to keep audiences growing and growing... we need to work closely with people who create technology and innovation to bring sport to life,   said Andrew Thompson, the BBC   s head of development, new media and sports news.   We want to appeal to core fans - to give them more analysis, more detail, more definitive answers about key passages of play.   Piero works by taking telemetric data from fixed camera positions and sending that data inside the video signal to a PC which can then render the information into 3D graphics.\"\n",
        "text5 = \"International films will be given the same prominence as US films at next years Sundance Film Festival, with movies dominated by the theme of war. The independent film festival will feature two new international cinema competitions, during its 20-30 January season in Utah. Forty-two films will debut at Sundance, including The Liberace of Baghdad by British director Sean McAllister. The prestigious festival was founded by actor Robert Redford in 1981. We have always had an international component, but from next year they will enter a jury competition, festival director Geoffrey Gilmore said. We wanted to give world cinema more emphasis and have now put it on par with the American dramatic and documentary competitions. Twelve films competing in the new world cinema documentary category focus on countries and people under siege.\"\n",
        "\n",
        "print(predict_category(text1))  # Output: business\n",
        "print(predict_category(text2))  # Output: entertainment\n",
        "print(predict_category(text3))  # Output: politics\n",
        "print(predict_category(text4))\n",
        "print(predict_category(text5))"
      ],
      "metadata": {
        "colab": {
          "base_uri": "https://localhost:8080/"
        },
        "id": "TU5JJkG2uVOJ",
        "outputId": "cf9688f6-7d5d-4c04-8dab-828232be5222"
      },
      "execution_count": 20,
      "outputs": [
        {
          "output_type": "stream",
          "name": "stdout",
          "text": [
            "['entertainment']\n",
            "['business']\n",
            "['politics']\n",
            "['tech']\n",
            "['entertainment']\n"
          ]
        }
      ]
    },
    {
      "cell_type": "code",
      "source": [
        "text1 = \"Apple is expected to release a new iPhone next month\"\n",
        "text2 = \"The stock market had a strong performance last quarter\"\n",
        "text3 = \"World Cup 2026: Fifa set to make decision on four-team group format this month\"\n",
        "text4 = \"Walker had hoped to compete in the New Year Sprint which is staged at Musselburgh Racecourse near Edinburgh on Tuesday and Wednesday. The 31-year-old Scot was suspended for two years in 1998 after testing positive for nandrolone. I had intended to race but Im running like a goon, said Walker. He told the Herald newspaper: Im not in great shape, after missing about a month of training.\"\n",
        "text5 = \"With unemployment stuck above 4 million for years, the government of Chancellor Gerhard Schroeder has put job creation at the top of the agenda. A controversial package of measures to shake up incentives to get back to work, paid for by cutting some cherished benefits, has sparked anger among some German workers. Strikes in a number of industries, notably among the country's iconic carmakers, have demonstrated the displeasure - as well as fears about further job losses as outsourcing takes hold.\"\n",
        "text6 = \"The Bedford star returned to London 12 months later, lowering her mixed-race world record of 2:17:18, which she set in Chicago in October 2003, by one minute 53 secs. Radcliffe's career took a setback when she failed to complete the Olympic marathon and later dropped out of the Athens 10,000m last August. But the 31-year-old bounced back to win the New York Marathon in November.\"\n",
        "text7 = \"It is thought the proposed overhaul, due on Thursday, could mean pensions could be based on a career average salary. For each year served, staff currently get one eightieth of their highest salary in the final three years. Ministers will be anxious to avoid mass strike action in the lead-up to the next general election, which is widely expected next May. In a statement on Sunday, the Cabinet Office said it was reviewing the Civil Service Pension Scheme, and hoped to announce proposals soon.\"\n",
        "text8 = \"Film-maker Spike Lee says black representation is stronger than ever in cinema and TV but the true power in entertainment lies behind the camera. The She Hate Me director urged students at his old Atlanta university, Morehouse College, to seek gatekeeper positions behind the scenes. Lee told them to work up the corporate ladder because everybody cannot be an actor, everybody cannot make a record. He spoke as part of a discussion panel, then led a retrospective of his films. Returning to his old university, which educates only African American students, Lee discussed the challenges facing black people in the entertainment industry. Even Denzel (Washington), he is getting $20m a movie. But when it comes time to do a movie, he has to go to one of those gatekeepers,Lee said. He told aspiring young film-makers in the audience not to ignore non-traditional routes to getting a movie made, including raising funds independently and releasing films straight to DVD.\"\n",
        "\n",
        "print(\"text1\",predict_category(text1))  # Output: business\n",
        "print(\"text2\",predict_category(text2))  # Output: entertainment\n",
        "print(\"text3\",predict_category(text3))  # Output: politics\n",
        "print(\"text4\",predict_category(text4))\n",
        "print(\"text5\",predict_category(text5))\n",
        "print(\"text6\",predict_category(text6))\n",
        "print(\"text7\",predict_category(text7))\n",
        "print(\"text8\",predict_category(text8))\n",
        "# docs = [text1, text2, text3]\n",
        "\n",
        "# print(predict_category(docs)) \n"
      ],
      "metadata": {
        "colab": {
          "base_uri": "https://localhost:8080/"
        },
        "id": "eFuR6YnaudR2",
        "outputId": "adf191df-f371-4459-b7be-f2ce1d526508"
      },
      "execution_count": 22,
      "outputs": [
        {
          "output_type": "stream",
          "name": "stdout",
          "text": [
            "text1 ['entertainment']\n",
            "text2 ['entertainment']\n",
            "text3 ['sport']\n",
            "text4 ['sport']\n",
            "text5 ['business']\n",
            "text6 ['sport']\n",
            "text7 ['politics']\n",
            "text8 ['entertainment']\n"
          ]
        }
      ]
    },
    {
      "cell_type": "code",
      "source": [
        "text9 = \"The Commission for Africa s report will be released on 11 March - Comic Relief day, Tony Blair has said. Julys G8 summit in Gleneagles in Perthshire chaired by the prime minister will use the report as the basis for talks on Africa. The announcement followed the final meeting of the commission which includes singer Bob Geldof in London. As well as more aid, fairer trade and less debt, the commission is likely to demand action on corruption in Africa. Mr Blair told a news conference: It will be a report that is brutally frank about the reality, but I hope idealistic about what can be done if the will is there. It is an ambitious project we have set ourselves and you will have to judge on its outcome when we publish it.\"\n",
        "text10 = \"Dutch watch Van Gogh is last film The last film to be made by the slain Dutch director Theo van Gogh, called 06/05, has been premiered in The Hague. Members of Van Gogh is family and celebrities attended the screening of 06/05, based on the murder of the anti-immigration politician Pim Fortuyn. Van Gogh was shot and stabbed to death in Amsterdam six weeks ago. A Dutch-Moroccan man suspected of radical Islamist links has been charged. The killing, and Fortuyn is death in 2002, convulsed the Netherlands. Many Dutch people have questioned their country is self-image as a peaceful, tolerant nation in the wake of the murders, which triggered heated debate about immigration.\"\n",
        "\n",
        "print(\"text9\", predict_category(text9))\n",
        "print(\"text10\", predict_category(text10))"
      ],
      "metadata": {
        "colab": {
          "base_uri": "https://localhost:8080/"
        },
        "id": "e_z0N7m6VjeX",
        "outputId": "3f7d7a07-f923-414f-da6a-257307e70a67"
      },
      "execution_count": 23,
      "outputs": [
        {
          "output_type": "stream",
          "name": "stdout",
          "text": [
            "text9 ['politics']\n",
            "text10 ['politics']\n"
          ]
        }
      ]
    },
    {
      "cell_type": "code",
      "source": [
        "text_new = \"Indie film nominations announced Mike Leighs award-winning abortion drama Vera Drake has scooped seven nominations at this years British Independent Film Awards.But the Venice winner faces stiff competition from Shane Meadows critically acclaimed Dead Mans Shoes, which received eight nominations. Also in the running for a clutch of awards are My Summer of Love and the stalker drama Enduring Love. The winners will be announced at a ceremony in London on 30 November. The winners of the awards will be chosen by a jury chaired by Cold Mountain director Anthony Minghella and including actresses Cate Blanchett and Helena Bonham-Carter. The awards, which recognise independent film-making in Britain, were established seven years ago. This years nominees reflect the growing strength and diversity of British independent filmmaking, said BIFA founder and director Elliot Grove. Commenting on the diversity of the nominated films, he added: Our selection committee had a harder time than ever narrowing down the field.\"\n",
        "print(predict_category(text_new))"
      ],
      "metadata": {
        "colab": {
          "base_uri": "https://localhost:8080/"
        },
        "id": "VRs0Yl0qK9Kd",
        "outputId": "335f685d-bacc-448b-83fe-fb71926e7f39"
      },
      "execution_count": 24,
      "outputs": [
        {
          "output_type": "stream",
          "name": "stdout",
          "text": [
            "['entertainment']\n"
          ]
        }
      ]
    },
    {
      "cell_type": "code",
      "source": [],
      "metadata": {
        "id": "bCiZxQ8u6hyS"
      },
      "execution_count": 24,
      "outputs": []
    }
  ]
}