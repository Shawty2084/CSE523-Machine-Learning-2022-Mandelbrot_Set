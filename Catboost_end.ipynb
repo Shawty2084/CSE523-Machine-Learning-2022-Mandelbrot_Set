{
  "nbformat": 4,
  "nbformat_minor": 0,
  "metadata": {
    "colab": {
      "provenance": [],
      "include_colab_link": true
    },
    "kernelspec": {
      "name": "python3",
      "display_name": "Python 3"
    },
    "language_info": {
      "name": "python"
    }
  },
  "cells": [
    {
      "cell_type": "markdown",
      "metadata": {
        "id": "view-in-github",
        "colab_type": "text"
      },
      "source": [
        "<a href=\"https://colab.research.google.com/github/Shawty2084/CSE523-Machine-Learning-2022-Mandelbrot_Set/blob/main/Catboost_end.ipynb\" target=\"_parent\"><img src=\"https://colab.research.google.com/assets/colab-badge.svg\" alt=\"Open In Colab\"/></a>"
      ]
    },
    {
      "cell_type": "code",
      "execution_count": null,
      "metadata": {
        "id": "jX_vNKUCTV3d"
      },
      "outputs": [],
      "source": [
        "import numpy as np\n",
        "import pandas as pd\n",
        "import glob\n",
        "import os"
      ]
    },
    {
      "cell_type": "code",
      "source": [
        "from google.colab import drive\n",
        "drive.mount('/content/drive')"
      ],
      "metadata": {
        "colab": {
          "base_uri": "https://localhost:8080/"
        },
        "id": "mL9UpwrGEi4y",
        "outputId": "4049f3a6-95fb-4ee0-ed29-9c4e85e3baee"
      },
      "execution_count": null,
      "outputs": [
        {
          "output_type": "stream",
          "name": "stdout",
          "text": [
            "Mounted at /content/drive\n"
          ]
        }
      ]
    },
    {
      "cell_type": "code",
      "source": [
        "dir = os.chdir(\"/content/drive/MyDrive/BBC News Summary\")\n",
        "print(f'Directory change to {os.getcwd()}')"
      ],
      "metadata": {
        "colab": {
          "base_uri": "https://localhost:8080/"
        },
        "id": "-OOGDSI6DnxF",
        "outputId": "c074e70b-4579-49fe-a56e-c1f0e7ad1e48"
      },
      "execution_count": null,
      "outputs": [
        {
          "output_type": "stream",
          "name": "stdout",
          "text": [
            "Directory change to /content/drive/MyDrive/BBC News Summary\n"
          ]
        }
      ]
    },
    {
      "cell_type": "code",
      "source": [
        "def import_data(folders_n, def_path):\n",
        "  filename = [path + \"/News Articles/\" + folder + \"/\" + \"*.txt\"\n",
        "     for path,folder in zip([def_path]*len(folders_n), folders_n)]\n",
        "  temp_doc = []\n",
        "  print(filename)\n",
        "  # tags \n",
        "  for x in filename:\n",
        "    data = glob.glob(x) \n",
        "    for y in data:\n",
        "      with open(y, encoding=\"latin-1\") as f:\n",
        "        topic = x.split('/')[len(x.split('/'))-2] \n",
        "        # print('me',topic)\n",
        "        line = f.readlines()\n",
        "        # head = line[0].strip()\n",
        "        body = ''.join([l.strip() for l in line[1:]])\n",
        "        temp_doc.append([topic,body])\n",
        "    print(f\"Loading data from \\033[1m{topic}\\033[0m directory\")\n",
        "    print(\"\\nEntire Data is loaded successfully\")\n",
        "\n",
        "  return temp_doc"
      ],
      "metadata": {
        "id": "9NzrK0PIEkiS"
      },
      "execution_count": null,
      "outputs": []
    },
    {
      "cell_type": "code",
      "source": [
        "folders_n = ['business','entertainment','politics','sport','tech']\n",
        "doc = import_data(folders_n = folders_n, def_path = os.getcwd())\n",
        "# docs = load_data(folder_names = folders_n, root_path = os.getcwd())\n"
      ],
      "metadata": {
        "colab": {
          "base_uri": "https://localhost:8080/"
        },
        "id": "Rk3z47myE_sH",
        "outputId": "a67cfe3a-4e7b-44b3-b27e-e40349a5eb8f"
      },
      "execution_count": null,
      "outputs": [
        {
          "output_type": "stream",
          "name": "stdout",
          "text": [
            "['/content/drive/MyDrive/BBC News Summary/News Articles/business/*.txt', '/content/drive/MyDrive/BBC News Summary/News Articles/entertainment/*.txt', '/content/drive/MyDrive/BBC News Summary/News Articles/politics/*.txt', '/content/drive/MyDrive/BBC News Summary/News Articles/sport/*.txt', '/content/drive/MyDrive/BBC News Summary/News Articles/tech/*.txt']\n",
            "Loading data from \u001b[1mbusiness\u001b[0m directory\n",
            "\n",
            "Entire Data is loaded successfully\n",
            "Loading data from \u001b[1mentertainment\u001b[0m directory\n",
            "\n",
            "Entire Data is loaded successfully\n",
            "Loading data from \u001b[1mpolitics\u001b[0m directory\n",
            "\n",
            "Entire Data is loaded successfully\n",
            "Loading data from \u001b[1msport\u001b[0m directory\n",
            "\n",
            "Entire Data is loaded successfully\n",
            "Loading data from \u001b[1mtech\u001b[0m directory\n",
            "\n",
            "Entire Data is loaded successfully\n"
          ]
        }
      ]
    },
    {
      "cell_type": "code",
      "source": [
        "# print(type(doc))\n",
        "doc1 = pd.DataFrame(doc, columns = ['category','text'])\n",
        "length = len(doc1)\n",
        "# print(length)\n",
        "doc1.head(length)\n",
        "# print(doc1)"
      ],
      "metadata": {
        "colab": {
          "base_uri": "https://localhost:8080/",
          "height": 424
        },
        "id": "ppL6iXtVFCX2",
        "outputId": "8ba6e972-b1fa-41a1-fb4c-ba7aafe9b956"
      },
      "execution_count": null,
      "outputs": [
        {
          "output_type": "execute_result",
          "data": {
            "text/plain": [
              "      category                                               text\n",
              "0     business  Billions of farmers' livelihoods are at risk f...\n",
              "1     business  Circuit City Stores, the second-largest electr...\n",
              "2     business  Ask Jeeves has become the third leading online...\n",
              "3     business  Japan's economy teetered on the brink of a tec...\n",
              "4     business  China's efforts to stop the economy from overh...\n",
              "...        ...                                                ...\n",
              "2220      tech  Gambling is hugely popular, especially with te...\n",
              "2221      tech  A group of artists in Poland has taken the cac...\n",
              "2222      tech  The number of personal computers worldwide is ...\n",
              "2223      tech  The proportion of surfers using Microsoft's In...\n",
              "2224      tech  The 'bad behaviour' of e-mail users is helping...\n",
              "\n",
              "[2225 rows x 2 columns]"
            ],
            "text/html": [
              "\n",
              "  <div id=\"df-b4c222c8-eed3-4b4b-b435-f353c2d7a0e9\">\n",
              "    <div class=\"colab-df-container\">\n",
              "      <div>\n",
              "<style scoped>\n",
              "    .dataframe tbody tr th:only-of-type {\n",
              "        vertical-align: middle;\n",
              "    }\n",
              "\n",
              "    .dataframe tbody tr th {\n",
              "        vertical-align: top;\n",
              "    }\n",
              "\n",
              "    .dataframe thead th {\n",
              "        text-align: right;\n",
              "    }\n",
              "</style>\n",
              "<table border=\"1\" class=\"dataframe\">\n",
              "  <thead>\n",
              "    <tr style=\"text-align: right;\">\n",
              "      <th></th>\n",
              "      <th>category</th>\n",
              "      <th>text</th>\n",
              "    </tr>\n",
              "  </thead>\n",
              "  <tbody>\n",
              "    <tr>\n",
              "      <th>0</th>\n",
              "      <td>business</td>\n",
              "      <td>Billions of farmers' livelihoods are at risk f...</td>\n",
              "    </tr>\n",
              "    <tr>\n",
              "      <th>1</th>\n",
              "      <td>business</td>\n",
              "      <td>Circuit City Stores, the second-largest electr...</td>\n",
              "    </tr>\n",
              "    <tr>\n",
              "      <th>2</th>\n",
              "      <td>business</td>\n",
              "      <td>Ask Jeeves has become the third leading online...</td>\n",
              "    </tr>\n",
              "    <tr>\n",
              "      <th>3</th>\n",
              "      <td>business</td>\n",
              "      <td>Japan's economy teetered on the brink of a tec...</td>\n",
              "    </tr>\n",
              "    <tr>\n",
              "      <th>4</th>\n",
              "      <td>business</td>\n",
              "      <td>China's efforts to stop the economy from overh...</td>\n",
              "    </tr>\n",
              "    <tr>\n",
              "      <th>...</th>\n",
              "      <td>...</td>\n",
              "      <td>...</td>\n",
              "    </tr>\n",
              "    <tr>\n",
              "      <th>2220</th>\n",
              "      <td>tech</td>\n",
              "      <td>Gambling is hugely popular, especially with te...</td>\n",
              "    </tr>\n",
              "    <tr>\n",
              "      <th>2221</th>\n",
              "      <td>tech</td>\n",
              "      <td>A group of artists in Poland has taken the cac...</td>\n",
              "    </tr>\n",
              "    <tr>\n",
              "      <th>2222</th>\n",
              "      <td>tech</td>\n",
              "      <td>The number of personal computers worldwide is ...</td>\n",
              "    </tr>\n",
              "    <tr>\n",
              "      <th>2223</th>\n",
              "      <td>tech</td>\n",
              "      <td>The proportion of surfers using Microsoft's In...</td>\n",
              "    </tr>\n",
              "    <tr>\n",
              "      <th>2224</th>\n",
              "      <td>tech</td>\n",
              "      <td>The 'bad behaviour' of e-mail users is helping...</td>\n",
              "    </tr>\n",
              "  </tbody>\n",
              "</table>\n",
              "<p>2225 rows × 2 columns</p>\n",
              "</div>\n",
              "      <button class=\"colab-df-convert\" onclick=\"convertToInteractive('df-b4c222c8-eed3-4b4b-b435-f353c2d7a0e9')\"\n",
              "              title=\"Convert this dataframe to an interactive table.\"\n",
              "              style=\"display:none;\">\n",
              "        \n",
              "  <svg xmlns=\"http://www.w3.org/2000/svg\" height=\"24px\"viewBox=\"0 0 24 24\"\n",
              "       width=\"24px\">\n",
              "    <path d=\"M0 0h24v24H0V0z\" fill=\"none\"/>\n",
              "    <path d=\"M18.56 5.44l.94 2.06.94-2.06 2.06-.94-2.06-.94-.94-2.06-.94 2.06-2.06.94zm-11 1L8.5 8.5l.94-2.06 2.06-.94-2.06-.94L8.5 2.5l-.94 2.06-2.06.94zm10 10l.94 2.06.94-2.06 2.06-.94-2.06-.94-.94-2.06-.94 2.06-2.06.94z\"/><path d=\"M17.41 7.96l-1.37-1.37c-.4-.4-.92-.59-1.43-.59-.52 0-1.04.2-1.43.59L10.3 9.45l-7.72 7.72c-.78.78-.78 2.05 0 2.83L4 21.41c.39.39.9.59 1.41.59.51 0 1.02-.2 1.41-.59l7.78-7.78 2.81-2.81c.8-.78.8-2.07 0-2.86zM5.41 20L4 18.59l7.72-7.72 1.47 1.35L5.41 20z\"/>\n",
              "  </svg>\n",
              "      </button>\n",
              "      \n",
              "  <style>\n",
              "    .colab-df-container {\n",
              "      display:flex;\n",
              "      flex-wrap:wrap;\n",
              "      gap: 12px;\n",
              "    }\n",
              "\n",
              "    .colab-df-convert {\n",
              "      background-color: #E8F0FE;\n",
              "      border: none;\n",
              "      border-radius: 50%;\n",
              "      cursor: pointer;\n",
              "      display: none;\n",
              "      fill: #1967D2;\n",
              "      height: 32px;\n",
              "      padding: 0 0 0 0;\n",
              "      width: 32px;\n",
              "    }\n",
              "\n",
              "    .colab-df-convert:hover {\n",
              "      background-color: #E2EBFA;\n",
              "      box-shadow: 0px 1px 2px rgba(60, 64, 67, 0.3), 0px 1px 3px 1px rgba(60, 64, 67, 0.15);\n",
              "      fill: #174EA6;\n",
              "    }\n",
              "\n",
              "    [theme=dark] .colab-df-convert {\n",
              "      background-color: #3B4455;\n",
              "      fill: #D2E3FC;\n",
              "    }\n",
              "\n",
              "    [theme=dark] .colab-df-convert:hover {\n",
              "      background-color: #434B5C;\n",
              "      box-shadow: 0px 1px 3px 1px rgba(0, 0, 0, 0.15);\n",
              "      filter: drop-shadow(0px 1px 2px rgba(0, 0, 0, 0.3));\n",
              "      fill: #FFFFFF;\n",
              "    }\n",
              "  </style>\n",
              "\n",
              "      <script>\n",
              "        const buttonEl =\n",
              "          document.querySelector('#df-b4c222c8-eed3-4b4b-b435-f353c2d7a0e9 button.colab-df-convert');\n",
              "        buttonEl.style.display =\n",
              "          google.colab.kernel.accessAllowed ? 'block' : 'none';\n",
              "\n",
              "        async function convertToInteractive(key) {\n",
              "          const element = document.querySelector('#df-b4c222c8-eed3-4b4b-b435-f353c2d7a0e9');\n",
              "          const dataTable =\n",
              "            await google.colab.kernel.invokeFunction('convertToInteractive',\n",
              "                                                     [key], {});\n",
              "          if (!dataTable) return;\n",
              "\n",
              "          const docLinkHtml = 'Like what you see? Visit the ' +\n",
              "            '<a target=\"_blank\" href=https://colab.research.google.com/notebooks/data_table.ipynb>data table notebook</a>'\n",
              "            + ' to learn more about interactive tables.';\n",
              "          element.innerHTML = '';\n",
              "          dataTable['output_type'] = 'display_data';\n",
              "          await google.colab.output.renderOutput(dataTable, element);\n",
              "          const docLink = document.createElement('div');\n",
              "          docLink.innerHTML = docLinkHtml;\n",
              "          element.appendChild(docLink);\n",
              "        }\n",
              "      </script>\n",
              "    </div>\n",
              "  </div>\n",
              "  "
            ]
          },
          "metadata": {},
          "execution_count": 6
        }
      ]
    },
    {
      "cell_type": "code",
      "source": [
        "import re\n",
        "from sklearn.base import BaseEstimator, TransformerMixin\n",
        "from sklearn.feature_extraction.text import TfidfVectorizer, CountVectorizer\n",
        "\n",
        "import nltk\n",
        "nltk.download('stopwords')\n",
        "from nltk.corpus import stopwords\n",
        "from spacy.lang.en import English\n",
        "import spacy"
      ],
      "metadata": {
        "colab": {
          "base_uri": "https://localhost:8080/"
        },
        "id": "bIvlhMzUFEaX",
        "outputId": "12178ced-cdeb-451d-8ba2-b248a6162a14"
      },
      "execution_count": null,
      "outputs": [
        {
          "output_type": "stream",
          "name": "stderr",
          "text": [
            "[nltk_data] Downloading package stopwords to /root/nltk_data...\n",
            "[nltk_data]   Unzipping corpora/stopwords.zip.\n"
          ]
        }
      ]
    },
    {
      "cell_type": "code",
      "source": [
        "spacy_english = English()\n",
        "from tqdm import tqdm\n",
        "nltk.download('stopwords')\n",
        "spacy_english = spacy.load('en_core_web_sm')"
      ],
      "metadata": {
        "colab": {
          "base_uri": "https://localhost:8080/"
        },
        "id": "x9mL69ImX0k5",
        "outputId": "65e2962f-9c8d-4d58-fd56-4a80d764df87"
      },
      "execution_count": null,
      "outputs": [
        {
          "output_type": "stream",
          "name": "stderr",
          "text": [
            "[nltk_data] Downloading package stopwords to /root/nltk_data...\n",
            "[nltk_data]   Package stopwords is already up-to-date!\n"
          ]
        }
      ]
    },
    {
      "cell_type": "code",
      "source": [],
      "metadata": {
        "id": "X9vVCp37xHIt"
      },
      "execution_count": null,
      "outputs": []
    },
    {
      "cell_type": "code",
      "source": [
        "def preprocess_text(text, return_string=False):\n",
        "    # Tokenize text using Spacy tokenizer\n",
        "    tokenizer = spacy_english.tokenizer\n",
        "    tokens = [str(token) for token in tokenizer(text)]\n",
        "    \n",
        "    # Lemmatize tokens using Spacy lemmatizer\n",
        "    lemmatizer = spacy.load('en_core_web_sm')\n",
        "    doc = lemmatizer(text)\n",
        "    lemmas = [token.lemma_ for token in doc]\n",
        "    \n",
        "    # Remove punctuation\n",
        "    punctuation_pattern = re.compile('[^A-z ]')\n",
        "    no_punct_text = [re.sub(punctuation_pattern, '', token) for token in lemmas]\n",
        "    no_punct_text = [token for token in no_punct_text if token != '']\n",
        "    \n",
        "    # Remove stop words\n",
        "    stopwords_list = stopwords.words('english')\n",
        "    stopwords_list.extend(['I', 's'])\n",
        "    no_stopwords_text = [token for token in no_punct_text if token not in stopwords_list]\n",
        "    \n",
        "    if return_string:\n",
        "        return ' '.join(no_stopwords_text)\n",
        "    else:\n",
        "        return no_stopwords_text\n",
        "\n",
        "new_texts = [preprocess_text(text) for text in tqdm(doc1['text'])]\n"
      ],
      "metadata": {
        "colab": {
          "base_uri": "https://localhost:8080/"
        },
        "id": "PyWLv1YJX5QS",
        "outputId": "6768801d-0f63-45a3-acf1-d2a5688cbf54"
      },
      "execution_count": null,
      "outputs": [
        {
          "output_type": "stream",
          "name": "stderr",
          "text": [
            "100%|██████████| 2225/2225 [35:01<00:00,  1.06it/s]\n"
          ]
        }
      ]
    },
    {
      "cell_type": "code",
      "source": [
        "!pip install catboost"
      ],
      "metadata": {
        "colab": {
          "base_uri": "https://localhost:8080/"
        },
        "id": "sMq6mQmHxLXi",
        "outputId": "59151a97-f94b-42d9-f0b8-eb3901a4e372"
      },
      "execution_count": null,
      "outputs": [
        {
          "output_type": "stream",
          "name": "stdout",
          "text": [
            "Looking in indexes: https://pypi.org/simple, https://us-python.pkg.dev/colab-wheels/public/simple/\n",
            "Collecting catboost\n",
            "  Downloading catboost-1.1.1-cp39-none-manylinux1_x86_64.whl (76.6 MB)\n",
            "\u001b[2K     \u001b[90m━━━━━━━━━━━━━━━━━━━━━━━━━━━━━━━━━━━━━━━━\u001b[0m \u001b[32m76.6/76.6 MB\u001b[0m \u001b[31m10.8 MB/s\u001b[0m eta \u001b[36m0:00:00\u001b[0m\n",
            "\u001b[?25hRequirement already satisfied: six in /usr/local/lib/python3.9/dist-packages (from catboost) (1.16.0)\n",
            "Requirement already satisfied: numpy>=1.16.0 in /usr/local/lib/python3.9/dist-packages (from catboost) (1.22.4)\n",
            "Requirement already satisfied: plotly in /usr/local/lib/python3.9/dist-packages (from catboost) (5.13.1)\n",
            "Requirement already satisfied: scipy in /usr/local/lib/python3.9/dist-packages (from catboost) (1.10.1)\n",
            "Requirement already satisfied: pandas>=0.24.0 in /usr/local/lib/python3.9/dist-packages (from catboost) (1.5.3)\n",
            "Requirement already satisfied: graphviz in /usr/local/lib/python3.9/dist-packages (from catboost) (0.20.1)\n",
            "Requirement already satisfied: matplotlib in /usr/local/lib/python3.9/dist-packages (from catboost) (3.7.1)\n",
            "Requirement already satisfied: python-dateutil>=2.8.1 in /usr/local/lib/python3.9/dist-packages (from pandas>=0.24.0->catboost) (2.8.2)\n",
            "Requirement already satisfied: pytz>=2020.1 in /usr/local/lib/python3.9/dist-packages (from pandas>=0.24.0->catboost) (2022.7.1)\n",
            "Requirement already satisfied: packaging>=20.0 in /usr/local/lib/python3.9/dist-packages (from matplotlib->catboost) (23.0)\n",
            "Requirement already satisfied: kiwisolver>=1.0.1 in /usr/local/lib/python3.9/dist-packages (from matplotlib->catboost) (1.4.4)\n",
            "Requirement already satisfied: contourpy>=1.0.1 in /usr/local/lib/python3.9/dist-packages (from matplotlib->catboost) (1.0.7)\n",
            "Requirement already satisfied: importlib-resources>=3.2.0 in /usr/local/lib/python3.9/dist-packages (from matplotlib->catboost) (5.12.0)\n",
            "Requirement already satisfied: cycler>=0.10 in /usr/local/lib/python3.9/dist-packages (from matplotlib->catboost) (0.11.0)\n",
            "Requirement already satisfied: pyparsing>=2.3.1 in /usr/local/lib/python3.9/dist-packages (from matplotlib->catboost) (3.0.9)\n",
            "Requirement already satisfied: pillow>=6.2.0 in /usr/local/lib/python3.9/dist-packages (from matplotlib->catboost) (8.4.0)\n",
            "Requirement already satisfied: fonttools>=4.22.0 in /usr/local/lib/python3.9/dist-packages (from matplotlib->catboost) (4.39.3)\n",
            "Requirement already satisfied: tenacity>=6.2.0 in /usr/local/lib/python3.9/dist-packages (from plotly->catboost) (8.2.2)\n",
            "Requirement already satisfied: zipp>=3.1.0 in /usr/local/lib/python3.9/dist-packages (from importlib-resources>=3.2.0->matplotlib->catboost) (3.15.0)\n",
            "Installing collected packages: catboost\n",
            "Successfully installed catboost-1.1.1\n"
          ]
        }
      ]
    },
    {
      "cell_type": "code",
      "source": [
        "\n",
        "import pandas as pd\n",
        "from sklearn.feature_extraction.text import TfidfVectorizer\n",
        "from sklearn.metrics import accuracy_score, confusion_matrix\n",
        "from catboost import CatBoostClassifier, Pool\n",
        "from sklearn.model_selection import train_test_split  \n",
        "\n",
        "df = doc1\n",
        "# Load and preprocess data\n",
        "train_size = int(len(df) * 0.8)\n",
        "train_data, test_data = train_test_split(df, test_size=0.1, random_state=42, shuffle=True)\n",
        "\n",
        "# Remove stop words and perform lemmatization\n",
        "# code for data preprocessing goes here\n",
        "\n",
        "# Extract features using TF-IDF vectorization\n",
        "tfidf = TfidfVectorizer(stop_words='english')\n",
        "X_train = tfidf.fit_transform(train_data['text'])\n",
        "y_train = train_data['category']\n",
        "X_test = tfidf.transform(test_data['text'])\n",
        "y_test = test_data['category']\n",
        "\n",
        "# Define and train the CatBoost model\n",
        "model = CatBoostClassifier(iterations=100,\n",
        "                           depth=2,\n",
        "                           loss_function='MultiClass',\n",
        "                           verbose=False,\n",
        "                           random_seed=42)\n",
        "# X_train_dense = X_train.toarray()\n",
        "# train_pool = Pool(X_train_dense, y_train, text_features=[0])\n",
        "# # train_pool = Pool(X_train, y_train, text_features=[0])\n",
        "# test_pool = Pool(X_test, y_test, text_features=[0])\n",
        "train_pool = Pool(X_train, y_train)\n",
        "test_pool = Pool(X_test, y_test)\n",
        "\n",
        "model.fit(train_pool)\n",
        "\n",
        "# Make predictions on test data and evaluate the model\n",
        "y_pred = model.predict(test_pool)\n",
        "accuracy = accuracy_score(y_test, y_pred)\n",
        "confusion = confusion_matrix(y_test, y_pred)\n",
        "print('Accuracy:', accuracy)\n",
        "print('Confusion Matrix:\\n', confusion)\n",
        "\n",
        "# # Extract the training and validation loss values from the logs\n",
        "# train_loss = model.get_best_score()['validation']['MultiClass']\n",
        "# val_loss = model.get_best_score()['learn']['MultiClass']\n",
        "\n",
        "# # Plot the loss function graph\n",
        "# plt.plot(train_loss, label='Training Loss')\n",
        "# plt.plot(val_loss, label='Validation Loss')\n",
        "# plt.title('CatBoost Loss Function Graph')\n",
        "# plt.xlabel('Iteration')\n",
        "# plt.ylabel('Loss')\n",
        "# plt.legend()\n",
        "# plt.show()\n"
      ],
      "metadata": {
        "id": "ap9NTjocYnws",
        "colab": {
          "base_uri": "https://localhost:8080/",
          "height": 358
        },
        "outputId": "a42367b2-d5e9-468b-fef6-e604a132a83f"
      },
      "execution_count": null,
      "outputs": [
        {
          "output_type": "stream",
          "name": "stdout",
          "text": [
            "Accuracy: 0.9461883408071748\n",
            "Confusion Matrix:\n",
            " [[56  0  0  1  1]\n",
            " [ 1 39  0  3  0]\n",
            " [ 2  0 31  3  0]\n",
            " [ 0  0  0 49  0]\n",
            " [ 0  0  1  0 36]]\n"
          ]
        },
        {
          "output_type": "error",
          "ename": "KeyError",
          "evalue": "ignored",
          "traceback": [
            "\u001b[0;31m---------------------------------------------------------------------------\u001b[0m",
            "\u001b[0;31mKeyError\u001b[0m                                  Traceback (most recent call last)",
            "\u001b[0;32m<ipython-input-17-456cd8d08afc>\u001b[0m in \u001b[0;36m<cell line: 45>\u001b[0;34m()\u001b[0m\n\u001b[1;32m     43\u001b[0m \u001b[0;34m\u001b[0m\u001b[0m\n\u001b[1;32m     44\u001b[0m \u001b[0;31m# Extract the training and validation loss values from the logs\u001b[0m\u001b[0;34m\u001b[0m\u001b[0;34m\u001b[0m\u001b[0m\n\u001b[0;32m---> 45\u001b[0;31m \u001b[0mtrain_loss\u001b[0m \u001b[0;34m=\u001b[0m \u001b[0mmodel\u001b[0m\u001b[0;34m.\u001b[0m\u001b[0mget_best_score\u001b[0m\u001b[0;34m(\u001b[0m\u001b[0;34m)\u001b[0m\u001b[0;34m[\u001b[0m\u001b[0;34m'validation'\u001b[0m\u001b[0;34m]\u001b[0m\u001b[0;34m[\u001b[0m\u001b[0;34m'MultiClass'\u001b[0m\u001b[0;34m]\u001b[0m\u001b[0;34m\u001b[0m\u001b[0;34m\u001b[0m\u001b[0m\n\u001b[0m\u001b[1;32m     46\u001b[0m \u001b[0mval_loss\u001b[0m \u001b[0;34m=\u001b[0m \u001b[0mmodel\u001b[0m\u001b[0;34m.\u001b[0m\u001b[0mget_best_score\u001b[0m\u001b[0;34m(\u001b[0m\u001b[0;34m)\u001b[0m\u001b[0;34m[\u001b[0m\u001b[0;34m'learn'\u001b[0m\u001b[0;34m]\u001b[0m\u001b[0;34m[\u001b[0m\u001b[0;34m'MultiClass'\u001b[0m\u001b[0;34m]\u001b[0m\u001b[0;34m\u001b[0m\u001b[0;34m\u001b[0m\u001b[0m\n\u001b[1;32m     47\u001b[0m \u001b[0;34m\u001b[0m\u001b[0m\n",
            "\u001b[0;31mKeyError\u001b[0m: 'validation'"
          ]
        }
      ]
    },
    {
      "cell_type": "code",
      "source": [
        "from catboost import CatBoostClassifier, Pool, cv\n",
        "from sklearn.model_selection import GridSearchCV\n",
        "from sklearn.metrics import accuracy_score, make_scorer\n",
        "from tqdm import tqdm\n",
        "\n",
        "df = doc1\n",
        "# Load and preprocess data\n",
        "train_size = int(len(df) * 0.8)\n",
        "train_data, test_data = train_test_split(df, test_size=0.1, random_state=42, shuffle=True)\n",
        "\n",
        "# Extract features using TF-IDF vectorization\n",
        "tfidf = TfidfVectorizer(stop_words='english')\n",
        "X_train = tfidf.fit_transform(train_data['text'])\n",
        "y_train = train_data['category']\n",
        "X_test = tfidf.transform(test_data['text'])\n",
        "y_test = test_data['category']\n",
        "\n",
        "# Create a pool object for training\n",
        "train_pool = Pool(X_train, y_train)\n",
        "\n",
        "# Define a custom scorer for GridSearchCV\n",
        "scorer = make_scorer(accuracy_score, greater_is_better=True)\n",
        "\n",
        "# Define the parameter grid to search over\n",
        "param_grid = {'iterations': [25, 50, 100],\n",
        "              'depth': [2, 3, 4],\n",
        "              'learning_rate': [0.1, 0.01, 0.001]}\n",
        "\n",
        "# Create a CatBoost classifier object\n",
        "model = CatBoostClassifier(loss_function='MultiClass', verbose=False, random_seed=42)\n",
        "\n",
        "# Perform grid search to find the best hyperparameters\n",
        "grid_search = GridSearchCV(model, param_grid, cv=3, scoring=scorer, n_jobs=-1)\n",
        "\n",
        "# Add a progress bar to the grid search\n",
        "grid_search.fit(X_train, y_train)\n",
        "\n",
        "# Print the best hyperparameters and corresponding accuracy score\n",
        "print('Best Hyperparameters:', grid_search.best_params_)\n",
        "print('Best Accuracy Score:', grid_search.best_score_)\n"
      ],
      "metadata": {
        "colab": {
          "base_uri": "https://localhost:8080/"
        },
        "id": "MaM22ieD2OQm",
        "outputId": "8e23cce3-be97-41f2-e156-b629daccf60e"
      },
      "execution_count": null,
      "outputs": [
        {
          "output_type": "stream",
          "name": "stdout",
          "text": [
            "Best Hyperparameters: {'depth': 4, 'iterations': 100, 'learning_rate': 0.1}\n",
            "Best Accuracy Score: 0.9250741395769181\n"
          ]
        }
      ]
    },
    {
      "cell_type": "code",
      "source": [
        "import matplotlib.pyplot as plt\n",
        "\n",
        "# Enable logging for the training process\n",
        "model.set_params(logging_level='Verbose')\n",
        "\n",
        "# Train the model\n",
        "model.fit(train_pool, eval_set=test_pool, plot=False)\n",
        "\n",
        "# Retrieve the training results\n",
        "results = model.get_evals_result()\n",
        "\n",
        "# Extract the loss values\n",
        "train_loss = results['learn']['MultiClass']\n",
        "test_loss = results['validation']['MultiClass']\n",
        "\n",
        "# Plot the loss function\n",
        "plt.figure(figsize=(10, 6))\n",
        "plt.plot(train_loss, label='Training Loss')\n",
        "plt.plot(test_loss, label='Validation Loss')\n",
        "plt.xlabel('Iteration')\n",
        "plt.ylabel('Loss')\n",
        "plt.title('CatBoost Classifier Loss Function')\n",
        "plt.legend()\n",
        "plt.grid()\n",
        "plt.show()\n"
      ],
      "metadata": {
        "colab": {
          "base_uri": "https://localhost:8080/",
          "height": 358
        },
        "id": "BUFjv3DtvWHa",
        "outputId": "27ad747f-d223-4eac-e801-084bf3d0ed15"
      },
      "execution_count": null,
      "outputs": [
        {
          "output_type": "error",
          "ename": "CatBoostError",
          "evalue": "ignored",
          "traceback": [
            "\u001b[0;31m---------------------------------------------------------------------------\u001b[0m",
            "\u001b[0;31mCatBoostError\u001b[0m                             Traceback (most recent call last)",
            "\u001b[0;32m<ipython-input-20-9500dbbf2b4a>\u001b[0m in \u001b[0;36m<cell line: 4>\u001b[0;34m()\u001b[0m\n\u001b[1;32m      2\u001b[0m \u001b[0;34m\u001b[0m\u001b[0m\n\u001b[1;32m      3\u001b[0m \u001b[0;31m# Enable logging for the training process\u001b[0m\u001b[0;34m\u001b[0m\u001b[0;34m\u001b[0m\u001b[0m\n\u001b[0;32m----> 4\u001b[0;31m \u001b[0mmodel\u001b[0m\u001b[0;34m.\u001b[0m\u001b[0mset_params\u001b[0m\u001b[0;34m(\u001b[0m\u001b[0mlogging_level\u001b[0m\u001b[0;34m=\u001b[0m\u001b[0;34m'Verbose'\u001b[0m\u001b[0;34m)\u001b[0m\u001b[0;34m\u001b[0m\u001b[0;34m\u001b[0m\u001b[0m\n\u001b[0m\u001b[1;32m      5\u001b[0m \u001b[0;34m\u001b[0m\u001b[0m\n\u001b[1;32m      6\u001b[0m \u001b[0;31m# Train the model\u001b[0m\u001b[0;34m\u001b[0m\u001b[0;34m\u001b[0m\u001b[0m\n",
            "\u001b[0;32m/usr/local/lib/python3.9/dist-packages/catboost/core.py\u001b[0m in \u001b[0;36mset_params\u001b[0;34m(self, **params)\u001b[0m\n\u001b[1;32m   3445\u001b[0m         \"\"\"\n\u001b[1;32m   3446\u001b[0m         \u001b[0;32mif\u001b[0m \u001b[0mself\u001b[0m\u001b[0;34m.\u001b[0m\u001b[0mis_fitted\u001b[0m\u001b[0;34m(\u001b[0m\u001b[0;34m)\u001b[0m\u001b[0;34m:\u001b[0m\u001b[0;34m\u001b[0m\u001b[0;34m\u001b[0m\u001b[0m\n\u001b[0;32m-> 3447\u001b[0;31m             \u001b[0;32mraise\u001b[0m \u001b[0mCatBoostError\u001b[0m\u001b[0;34m(\u001b[0m\u001b[0;34m\"You can't change params of fitted model.\"\u001b[0m\u001b[0;34m)\u001b[0m\u001b[0;34m\u001b[0m\u001b[0;34m\u001b[0m\u001b[0m\n\u001b[0m\u001b[1;32m   3448\u001b[0m         \u001b[0;32mfor\u001b[0m \u001b[0mkey\u001b[0m\u001b[0;34m,\u001b[0m \u001b[0mvalue\u001b[0m \u001b[0;32min\u001b[0m \u001b[0miteritems\u001b[0m\u001b[0;34m(\u001b[0m\u001b[0mparams\u001b[0m\u001b[0;34m)\u001b[0m\u001b[0;34m:\u001b[0m\u001b[0;34m\u001b[0m\u001b[0;34m\u001b[0m\u001b[0m\n\u001b[1;32m   3449\u001b[0m             \u001b[0mself\u001b[0m\u001b[0;34m.\u001b[0m\u001b[0m_init_params\u001b[0m\u001b[0;34m[\u001b[0m\u001b[0mkey\u001b[0m\u001b[0;34m]\u001b[0m \u001b[0;34m=\u001b[0m \u001b[0mvalue\u001b[0m\u001b[0;34m\u001b[0m\u001b[0;34m\u001b[0m\u001b[0m\n",
            "\u001b[0;31mCatBoostError\u001b[0m: You can't change params of fitted model."
          ]
        }
      ]
    }
  ]
}