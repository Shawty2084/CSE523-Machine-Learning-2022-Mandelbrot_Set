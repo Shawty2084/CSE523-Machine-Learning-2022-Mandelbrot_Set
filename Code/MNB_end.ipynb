{
  "cells": [
    {
      "cell_type": "code",
      "execution_count": 2,
      "metadata": {
        "id": "yQQqWB0QNrfP"
      },
      "outputs": [],
      "source": [
        "import numpy as np\n",
        "import pandas as pd\n",
        "import glob\n",
        "import os"
      ]
    },
    {
      "cell_type": "code",
      "execution_count": 3,
      "metadata": {
        "colab": {
          "base_uri": "https://localhost:8080/"
        },
        "id": "Or8enVFLN3Vp",
        "outputId": "4d187dc1-1697-48fc-ef6d-3730f554d936"
      },
      "outputs": [
        {
          "output_type": "stream",
          "name": "stdout",
          "text": [
            "Directory change to /content/drive/MyDrive/Colab Notebooks/BBC_Data\n"
          ]
        }
      ],
      "source": [
        "dir = os.chdir(\"/content/drive/MyDrive/Colab Notebooks/BBC_Data\")\n",
        "print(f'Directory change to {os.getcwd()}')"
      ]
    },
    {
      "cell_type": "code",
      "execution_count": 1,
      "metadata": {
        "colab": {
          "base_uri": "https://localhost:8080/"
        },
        "id": "o__PzNCMuKnx",
        "outputId": "b11283a1-5d95-4807-e9f7-09be8c7b6ba1"
      },
      "outputs": [
        {
          "output_type": "stream",
          "name": "stdout",
          "text": [
            "Drive already mounted at /content/drive; to attempt to forcibly remount, call drive.mount(\"/content/drive\", force_remount=True).\n"
          ]
        }
      ],
      "source": [
        "from google.colab import drive\n",
        "drive.mount('/content/drive')"
      ]
    },
    {
      "cell_type": "code",
      "execution_count": 4,
      "metadata": {
        "id": "p11US1m5N5os"
      },
      "outputs": [],
      "source": [
        "def import_data(folders_n, def_path):\n",
        "  filename = [path + \"/News Articles/\" + folder + \"/\" + \"*.txt\"\n",
        "     for path,folder in zip([def_path]*len(folders_n), folders_n)]\n",
        "  temp_doc = []\n",
        "  print(filename)\n",
        "  # tags \n",
        "  for x in filename:\n",
        "    data = glob.glob(x) \n",
        "    for y in data:\n",
        "      with open(y, encoding=\"latin-1\") as f:\n",
        "        topic = x.split('/')[len(x.split('/'))-2] \n",
        "        # print('me',topic)\n",
        "        line = f.readlines()\n",
        "        # head = line[0].strip()\n",
        "        body = ''.join([l.strip() for l in line[1:]])\n",
        "        temp_doc.append([topic,body])\n",
        "    print(f\"Loading data from \\033[1m{topic}\\033[0m directory\")\n",
        "    print(\"\\nEntire Data is loaded successfully\")\n",
        "\n",
        "  return temp_doc"
      ]
    },
    {
      "cell_type": "code",
      "execution_count": 5,
      "metadata": {
        "colab": {
          "base_uri": "https://localhost:8080/"
        },
        "id": "7BNxF7EkN6dG",
        "outputId": "53e125b2-cadc-47cc-fc20-f7725f1a862e"
      },
      "outputs": [
        {
          "output_type": "stream",
          "name": "stdout",
          "text": [
            "['/content/drive/MyDrive/Colab Notebooks/BBC_Data/News Articles/business/*.txt', '/content/drive/MyDrive/Colab Notebooks/BBC_Data/News Articles/entertainment/*.txt', '/content/drive/MyDrive/Colab Notebooks/BBC_Data/News Articles/politics/*.txt', '/content/drive/MyDrive/Colab Notebooks/BBC_Data/News Articles/sport/*.txt', '/content/drive/MyDrive/Colab Notebooks/BBC_Data/News Articles/tech/*.txt']\n",
            "Loading data from \u001b[1mbusiness\u001b[0m directory\n",
            "\n",
            "Entire Data is loaded successfully\n",
            "Loading data from \u001b[1mentertainment\u001b[0m directory\n",
            "\n",
            "Entire Data is loaded successfully\n",
            "Loading data from \u001b[1mpolitics\u001b[0m directory\n",
            "\n",
            "Entire Data is loaded successfully\n",
            "Loading data from \u001b[1msport\u001b[0m directory\n",
            "\n",
            "Entire Data is loaded successfully\n",
            "Loading data from \u001b[1mtech\u001b[0m directory\n",
            "\n",
            "Entire Data is loaded successfully\n"
          ]
        }
      ],
      "source": [
        "folders_n = ['business','entertainment','politics','sport','tech']\n",
        "doc = import_data(folders_n = folders_n, def_path = os.getcwd())\n",
        "# docs = load_data(folder_names = folders_n, root_path = os.getcwd())\n"
      ]
    },
    {
      "cell_type": "code",
      "execution_count": 6,
      "metadata": {
        "colab": {
          "base_uri": "https://localhost:8080/",
          "height": 423
        },
        "id": "90C0WJkXONSM",
        "outputId": "5d6c79bb-dbb0-464c-d1fa-eb0d6408dd68"
      },
      "outputs": [
        {
          "output_type": "execute_result",
          "data": {
            "text/plain": [
              "      category                                               text\n",
              "0     business  Ethiopia produced 14.27 million tonnes of crop...\n",
              "1     business  Ask Jeeves has become the third leading online...\n",
              "2     business  Budget airline Ryanair has placed an order for...\n",
              "3     business  Crude oil prices surged back above the $47 a b...\n",
              "4     business  Revenues at media group Reuters slipped 11% du...\n",
              "...        ...                                                ...\n",
              "2220      tech  Now that a critical mass of people have embrac...\n",
              "2221      tech  Video games on consoles and computers proved m...\n",
              "2222      tech  Mobile phones are still enjoying a boom time i...\n",
              "2223      tech  Music and film fans will be able to control th...\n",
              "2224      tech  Cyberspace is becoming a very popular destinat...\n",
              "\n",
              "[2225 rows x 2 columns]"
            ],
            "text/html": [
              "\n",
              "  <div id=\"df-1298404e-2e6c-4e44-a199-e5d3531019c4\">\n",
              "    <div class=\"colab-df-container\">\n",
              "      <div>\n",
              "<style scoped>\n",
              "    .dataframe tbody tr th:only-of-type {\n",
              "        vertical-align: middle;\n",
              "    }\n",
              "\n",
              "    .dataframe tbody tr th {\n",
              "        vertical-align: top;\n",
              "    }\n",
              "\n",
              "    .dataframe thead th {\n",
              "        text-align: right;\n",
              "    }\n",
              "</style>\n",
              "<table border=\"1\" class=\"dataframe\">\n",
              "  <thead>\n",
              "    <tr style=\"text-align: right;\">\n",
              "      <th></th>\n",
              "      <th>category</th>\n",
              "      <th>text</th>\n",
              "    </tr>\n",
              "  </thead>\n",
              "  <tbody>\n",
              "    <tr>\n",
              "      <th>0</th>\n",
              "      <td>business</td>\n",
              "      <td>Ethiopia produced 14.27 million tonnes of crop...</td>\n",
              "    </tr>\n",
              "    <tr>\n",
              "      <th>1</th>\n",
              "      <td>business</td>\n",
              "      <td>Ask Jeeves has become the third leading online...</td>\n",
              "    </tr>\n",
              "    <tr>\n",
              "      <th>2</th>\n",
              "      <td>business</td>\n",
              "      <td>Budget airline Ryanair has placed an order for...</td>\n",
              "    </tr>\n",
              "    <tr>\n",
              "      <th>3</th>\n",
              "      <td>business</td>\n",
              "      <td>Crude oil prices surged back above the $47 a b...</td>\n",
              "    </tr>\n",
              "    <tr>\n",
              "      <th>4</th>\n",
              "      <td>business</td>\n",
              "      <td>Revenues at media group Reuters slipped 11% du...</td>\n",
              "    </tr>\n",
              "    <tr>\n",
              "      <th>...</th>\n",
              "      <td>...</td>\n",
              "      <td>...</td>\n",
              "    </tr>\n",
              "    <tr>\n",
              "      <th>2220</th>\n",
              "      <td>tech</td>\n",
              "      <td>Now that a critical mass of people have embrac...</td>\n",
              "    </tr>\n",
              "    <tr>\n",
              "      <th>2221</th>\n",
              "      <td>tech</td>\n",
              "      <td>Video games on consoles and computers proved m...</td>\n",
              "    </tr>\n",
              "    <tr>\n",
              "      <th>2222</th>\n",
              "      <td>tech</td>\n",
              "      <td>Mobile phones are still enjoying a boom time i...</td>\n",
              "    </tr>\n",
              "    <tr>\n",
              "      <th>2223</th>\n",
              "      <td>tech</td>\n",
              "      <td>Music and film fans will be able to control th...</td>\n",
              "    </tr>\n",
              "    <tr>\n",
              "      <th>2224</th>\n",
              "      <td>tech</td>\n",
              "      <td>Cyberspace is becoming a very popular destinat...</td>\n",
              "    </tr>\n",
              "  </tbody>\n",
              "</table>\n",
              "<p>2225 rows × 2 columns</p>\n",
              "</div>\n",
              "      <button class=\"colab-df-convert\" onclick=\"convertToInteractive('df-1298404e-2e6c-4e44-a199-e5d3531019c4')\"\n",
              "              title=\"Convert this dataframe to an interactive table.\"\n",
              "              style=\"display:none;\">\n",
              "        \n",
              "  <svg xmlns=\"http://www.w3.org/2000/svg\" height=\"24px\"viewBox=\"0 0 24 24\"\n",
              "       width=\"24px\">\n",
              "    <path d=\"M0 0h24v24H0V0z\" fill=\"none\"/>\n",
              "    <path d=\"M18.56 5.44l.94 2.06.94-2.06 2.06-.94-2.06-.94-.94-2.06-.94 2.06-2.06.94zm-11 1L8.5 8.5l.94-2.06 2.06-.94-2.06-.94L8.5 2.5l-.94 2.06-2.06.94zm10 10l.94 2.06.94-2.06 2.06-.94-2.06-.94-.94-2.06-.94 2.06-2.06.94z\"/><path d=\"M17.41 7.96l-1.37-1.37c-.4-.4-.92-.59-1.43-.59-.52 0-1.04.2-1.43.59L10.3 9.45l-7.72 7.72c-.78.78-.78 2.05 0 2.83L4 21.41c.39.39.9.59 1.41.59.51 0 1.02-.2 1.41-.59l7.78-7.78 2.81-2.81c.8-.78.8-2.07 0-2.86zM5.41 20L4 18.59l7.72-7.72 1.47 1.35L5.41 20z\"/>\n",
              "  </svg>\n",
              "      </button>\n",
              "      \n",
              "  <style>\n",
              "    .colab-df-container {\n",
              "      display:flex;\n",
              "      flex-wrap:wrap;\n",
              "      gap: 12px;\n",
              "    }\n",
              "\n",
              "    .colab-df-convert {\n",
              "      background-color: #E8F0FE;\n",
              "      border: none;\n",
              "      border-radius: 50%;\n",
              "      cursor: pointer;\n",
              "      display: none;\n",
              "      fill: #1967D2;\n",
              "      height: 32px;\n",
              "      padding: 0 0 0 0;\n",
              "      width: 32px;\n",
              "    }\n",
              "\n",
              "    .colab-df-convert:hover {\n",
              "      background-color: #E2EBFA;\n",
              "      box-shadow: 0px 1px 2px rgba(60, 64, 67, 0.3), 0px 1px 3px 1px rgba(60, 64, 67, 0.15);\n",
              "      fill: #174EA6;\n",
              "    }\n",
              "\n",
              "    [theme=dark] .colab-df-convert {\n",
              "      background-color: #3B4455;\n",
              "      fill: #D2E3FC;\n",
              "    }\n",
              "\n",
              "    [theme=dark] .colab-df-convert:hover {\n",
              "      background-color: #434B5C;\n",
              "      box-shadow: 0px 1px 3px 1px rgba(0, 0, 0, 0.15);\n",
              "      filter: drop-shadow(0px 1px 2px rgba(0, 0, 0, 0.3));\n",
              "      fill: #FFFFFF;\n",
              "    }\n",
              "  </style>\n",
              "\n",
              "      <script>\n",
              "        const buttonEl =\n",
              "          document.querySelector('#df-1298404e-2e6c-4e44-a199-e5d3531019c4 button.colab-df-convert');\n",
              "        buttonEl.style.display =\n",
              "          google.colab.kernel.accessAllowed ? 'block' : 'none';\n",
              "\n",
              "        async function convertToInteractive(key) {\n",
              "          const element = document.querySelector('#df-1298404e-2e6c-4e44-a199-e5d3531019c4');\n",
              "          const dataTable =\n",
              "            await google.colab.kernel.invokeFunction('convertToInteractive',\n",
              "                                                     [key], {});\n",
              "          if (!dataTable) return;\n",
              "\n",
              "          const docLinkHtml = 'Like what you see? Visit the ' +\n",
              "            '<a target=\"_blank\" href=https://colab.research.google.com/notebooks/data_table.ipynb>data table notebook</a>'\n",
              "            + ' to learn more about interactive tables.';\n",
              "          element.innerHTML = '';\n",
              "          dataTable['output_type'] = 'display_data';\n",
              "          await google.colab.output.renderOutput(dataTable, element);\n",
              "          const docLink = document.createElement('div');\n",
              "          docLink.innerHTML = docLinkHtml;\n",
              "          element.appendChild(docLink);\n",
              "        }\n",
              "      </script>\n",
              "    </div>\n",
              "  </div>\n",
              "  "
            ]
          },
          "metadata": {},
          "execution_count": 6
        }
      ],
      "source": [
        "# print(type(doc))\n",
        "doc1 = pd.DataFrame(doc, columns = ['category','text'])\n",
        "length = len(doc1)\n",
        "# print(length)\n",
        "doc1.head(length)\n",
        "# print(doc1)"
      ]
    },
    {
      "cell_type": "code",
      "execution_count": 7,
      "metadata": {
        "colab": {
          "base_uri": "https://localhost:8080/"
        },
        "id": "xicMwbTlR9c2",
        "outputId": "25c52143-4da5-4e66-ed3f-6e528e95cfc1"
      },
      "outputs": [
        {
          "output_type": "stream",
          "name": "stderr",
          "text": [
            "[nltk_data] Downloading package stopwords to /root/nltk_data...\n",
            "[nltk_data]   Package stopwords is already up-to-date!\n",
            "[nltk_data] Downloading package wordnet to /root/nltk_data...\n",
            "[nltk_data]   Package wordnet is already up-to-date!\n",
            "[nltk_data] Downloading package omw-1.4 to /root/nltk_data...\n",
            "[nltk_data]   Package omw-1.4 is already up-to-date!\n"
          ]
        },
        {
          "output_type": "execute_result",
          "data": {
            "text/plain": [
              "True"
            ]
          },
          "metadata": {},
          "execution_count": 7
        }
      ],
      "source": [
        "import nltk\n",
        "from nltk.corpus import stopwords\n",
        "from nltk.stem import WordNetLemmatizer\n",
        "import string\n",
        "\n",
        "# download necessary resources for NLTK\n",
        "nltk.download('stopwords')\n",
        "nltk.download('wordnet')\n",
        "nltk.download('omw-1.4')"
      ]
    },
    {
      "cell_type": "code",
      "execution_count": 8,
      "metadata": {
        "colab": {
          "base_uri": "https://localhost:8080/"
        },
        "id": "Du8OhlbHRm7z",
        "outputId": "7db02040-aa76-4df5-f60a-bb4f864e4a13"
      },
      "outputs": [
        {
          "output_type": "stream",
          "name": "stdout",
          "text": [
            "0       Ethiopia produced 14.27 million tonnes of crop...\n",
            "1       Ask Jeeves has become the third leading online...\n",
            "2       Budget airline Ryanair has placed an order for...\n",
            "3       Crude oil prices surged back above the $47 a b...\n",
            "4       Revenues at media group Reuters slipped 11% du...\n",
            "                              ...                        \n",
            "2220    Now that a critical mass of people have embrac...\n",
            "2221    Video games on consoles and computers proved m...\n",
            "2222    Mobile phones are still enjoying a boom time i...\n",
            "2223    Music and film fans will be able to control th...\n",
            "2224    Cyberspace is becoming a very popular destinat...\n",
            "Name: text, Length: 2225, dtype: object\n"
          ]
        }
      ],
      "source": [
        "lemmatizer = WordNetLemmatizer()\n",
        "stop_words = set(stopwords.words('english'))\n",
        "\n",
        "def preprocess_text(text):\n",
        "    text = text.lower()\n",
        "    text = text.translate(str.maketrans('', '', string.punctuation))\n",
        "    tokens = text.split()\n",
        "    tokens = [word for word in tokens if word not in stop_words]\n",
        "    tokens = [lemmatizer.lemmatize(word) for word in tokens]\n",
        "    text = ' '.join(tokens)\n",
        "    return text\n",
        "\n",
        "doc1['text_processed'] = doc1['text'].apply(preprocess_text)\n",
        "print(doc1['text'])\n"
      ]
    },
    {
      "cell_type": "code",
      "execution_count": 9,
      "metadata": {
        "id": "N5WX_ODXtMxc"
      },
      "outputs": [],
      "source": [
        "import pandas as pd\n",
        "import numpy as np\n",
        "from sklearn.feature_extraction.text import CountVectorizer\n",
        "from sklearn.decomposition import LatentDirichletAllocation\n",
        "from sklearn.model_selection import train_test_split\n",
        "from sklearn.metrics import accuracy_score\n"
      ]
    },
    {
      "cell_type": "code",
      "execution_count": 16,
      "metadata": {
        "colab": {
          "base_uri": "https://localhost:8080/"
        },
        "id": "hDOVHSlflt-_",
        "outputId": "b5badf4c-1669-419d-88e6-8d38cee164af"
      },
      "outputs": [
        {
          "output_type": "stream",
          "name": "stdout",
          "text": [
            "AccuracyPredict: 0.9797752808988764\n",
            "AccuracyTrain: 0.9960674157303371\n",
            "               precision    recall  f1-score   support\n",
            "\n",
            "     business       0.98      0.98      0.98        93\n",
            "entertainment       1.00      0.96      0.98        83\n",
            "     politics       0.99      0.97      0.98        92\n",
            "        sport       1.00      0.99      1.00       103\n",
            "         tech       0.93      1.00      0.96        74\n",
            "\n",
            "     accuracy                           0.98       445\n",
            "    macro avg       0.98      0.98      0.98       445\n",
            " weighted avg       0.98      0.98      0.98       445\n",
            "\n"
          ]
        }
      ],
      "source": [
        "# import the necessary libraries\n",
        "import pandas as pd\n",
        "import numpy as np\n",
        "from sklearn.feature_extraction.text import TfidfVectorizer\n",
        "from sklearn.model_selection import cross_val_score\n",
        "from sklearn.naive_bayes import MultinomialNB\n",
        "from sklearn.metrics import classification_report, confusion_matrix\n",
        "\n",
        "doc1 = pd.DataFrame(doc, columns = ['category','text'])\n",
        "df = doc1\n",
        "X_train, X_test, y_train, y_test = train_test_split(df['text'], df['category'], test_size=0.2, random_state=112)\n",
        "vectorizer = CountVectorizer(stop_words='english')\n",
        "X_train = vectorizer.fit_transform(X_train)\n",
        "X_test = vectorizer.transform(X_test)\n",
        "#print(vectorizer)\n",
        "Bmodel= MultinomialNB()\n",
        "Bmodel.fit(X_train, y_train)\n",
        "PredT= Bmodel.predict(X_train)\n",
        "preds = Bmodel.predict(X_test)\n",
        "accuracy= accuracy_score(y_test, preds)\n",
        "acc= accuracy_score(y_train,PredT)\n",
        "#acc= round(acc, 2)\n",
        "print(\"AccuracyPredict:\", accuracy)\n",
        "print(\"AccuracyTrain:\",acc)\n",
        "# print the classification report and confusion matrix\n",
        "print(classification_report(y_test, preds))\n",
        "#print(confusion_matrix(y_test, preds))\n",
        "#cross-validation\n",
        "#ScoreS = cross_val_score(Bmodel, X_train, y_train, cv=7)\n",
        "#print('Score', ScoreS)\n",
        "#scores = cross_val_score(doc1, category, text, cv=5)\n",
        "\n",
        "# print the cross-validation scores\n",
        "#print('Cross-validation scores:', scores)\n",
        "\n",
        "\n"
      ]
    },
    {
      "cell_type": "code",
      "execution_count": null,
      "metadata": {
        "colab": {
          "base_uri": "https://localhost:8080/",
          "height": 620
        },
        "id": "ZsMYnWO7101o",
        "outputId": "f2b42dd3-09e6-4fc5-c875-18a6349d28a7"
      },
      "outputs": [
        {
          "name": "stdout",
          "output_type": "stream",
          "text": [
            "CV: 2, Train error: 0.0337078651685393, Test error: 0.020224719101123556\n",
            "CV: 3, Train error: 0.029209085420440206, Test error: 0.020224719101123556\n",
            "CV: 4, Train error: 0.02528089887640439, Test error: 0.020224719101123556\n",
            "CV: 5, Train error: 0.025842696629213457, Test error: 0.020224719101123556\n",
            "CV: 6, Train error: 0.02752373585706913, Test error: 0.020224719101123556\n",
            "CV: 7, Train error: 0.025825448289552022, Test error: 0.020224719101123556\n",
            "CV: 8, Train error: 0.024711651112996336, Test error: 0.020224719101123556\n",
            "CV: 9, Train error: 0.0263976482250593, Test error: 0.020224719101123556\n"
          ]
        },
        {
          "data": {
            "image/png": "[encoded data removed]",
            "text/plain": [
              "<Figure size 640x480 with 1 Axes>"
            ]
          },
          "metadata": {},
          "output_type": "display_data"
        }
      ],
      "source": [
        "import matplotlib.pyplot as plt\n",
        "\n",
        "doc1 = pd.DataFrame(doc, columns = ['category','text'])\n",
        "df = doc1\n",
        "X_train, X_test, y_train, y_test = train_test_split(df['text'], df['category'], test_size=0.2, random_state=112)\n",
        "vectorizer = CountVectorizer(stop_words='english')\n",
        "X_train = vectorizer.fit_transform(X_train)\n",
        "X_test = vectorizer.transform(X_test)\n",
        "\n",
        "train_errors = []\n",
        "test_errors = []\n",
        "\n",
        "Bmodel = MultinomialNB()\n",
        "\n",
        "for i in range(2, 10):\n",
        "    cv_scores = cross_val_score(Bmodel, X_train, y_train, cv=i)\n",
        "    train_error = 1 - np.mean(cv_scores)\n",
        "    test_error = 1 - accuracy_score(y_test, Bmodel.fit(X_train, y_train).predict(X_test))\n",
        "    train_errors.append(train_error)\n",
        "    test_errors.append(test_error)\n",
        "    print('CV: {}, Train error: {}, Test error: {}'.format(i, train_error, test_error))\n",
        "\n",
        "# Plot the errors\n",
        "plt.plot(range(2, 10), train_errors, 'b', label='Training error')\n",
        "plt.plot(range(2, 10), test_errors, 'r', label='Testing error')\n",
        "plt.xlabel('Number of cross-validation folds')\n",
        "plt.ylabel('Error rate')\n",
        "plt.title('Error Plot')\n",
        "plt.legend(loc='best')\n",
        "plt.show()\n"
      ]
    },
    {
      "cell_type": "code",
      "execution_count": null,
      "metadata": {
        "colab": {
          "base_uri": "https://localhost:8080/",
          "height": 472
        },
        "id": "nlTA_y3X7av6",
        "outputId": "a3fa5ba8-9d85-437c-de4d-08e5aa000c21"
      },
      "outputs": [
        {
          "data": {
            "image/png": "[encoded data removed]",
            "text/plain": [
              "<Figure size 640x480 with 1 Axes>"
            ]
          },
          "metadata": {},
          "output_type": "display_data"
        }
      ],
      "source": [
        "import numpy as np\n",
        "import matplotlib.pyplot as plt\n",
        "\n",
        "# generate some random data\n",
        "x = np.random.rand(100)\n",
        "y = 2*x + 1 + 0.1*np.random.randn(100)\n",
        "\n",
        "# initialize the weights and learning rate\n",
        "w = np.zeros((1,))\n",
        "b = np.zeros((1,))\n",
        "lr = 0.1\n",
        "\n",
        "# define the loss function (mean squared error)\n",
        "def mse_loss(y_true, y_pred):\n",
        "    return np.mean((y_true - y_pred)**2)\n",
        "\n",
        "# train the model\n",
        "loss_history = []\n",
        "for i in range(50):\n",
        "    # compute the predictions\n",
        "    y_pred = w*x + b\n",
        "    \n",
        "    # compute the loss\n",
        "    loss = mse_loss(y, y_pred)\n",
        "    \n",
        "    # compute the gradients\n",
        "    dw = np.mean(2*(y_pred - y)*x)\n",
        "    db = np.mean(2*(y_pred - y))\n",
        "    \n",
        "    # update the weights\n",
        "    w -= lr*dw\n",
        "    b -= lr*db\n",
        "    \n",
        "    # record the loss\n",
        "    loss_history.append(loss)\n",
        "    \n",
        "# plot the loss function over time\n",
        "plt.plot(loss_history)\n",
        "plt.xlabel('Iteration')\n",
        "plt.ylabel('Loss')\n",
        "plt.title('Training Loss')\n",
        "plt.show()\n",
        "\n"
      ]
    },
    {
      "cell_type": "code",
      "execution_count": 22,
      "metadata": {
        "colab": {
          "base_uri": "https://localhost:8080/"
        },
        "id": "iyk00lvSJzmZ",
        "outputId": "e32741ae-3331-4f72-e7ae-ac06af0f1216"
      },
      "outputs": [
        {
          "output_type": "stream",
          "name": "stdout",
          "text": [
            "Best hyperparameters: {'alpha': 0.01, 'class_prior': None, 'fit_prior': False}\n",
            "Accuracy: 0.9820224719101124\n",
            "               precision    recall  f1-score   support\n",
            "\n",
            "     business       0.97      0.97      0.97       103\n",
            "entertainment       1.00      1.00      1.00        67\n",
            "     politics       0.95      0.99      0.97        89\n",
            "        sport       1.00      0.98      0.99       107\n",
            "         tech       1.00      0.97      0.99        79\n",
            "\n",
            "     accuracy                           0.98       445\n",
            "    macro avg       0.98      0.98      0.98       445\n",
            " weighted avg       0.98      0.98      0.98       445\n",
            "\n"
          ]
        },
        {
          "output_type": "stream",
          "name": "stderr",
          "text": [
            "/usr/local/lib/python3.9/dist-packages/sklearn/model_selection/_validation.py:378: FitFailedWarning: \n",
            "100 fits failed out of a total of 150.\n",
            "The score on these train-test partitions for these parameters will be set to nan.\n",
            "If these failures are not expected, you can try to debug them by setting error_score='raise'.\n",
            "\n",
            "Below are more details about the failures:\n",
            "--------------------------------------------------------------------------------\n",
            "100 fits failed with the following error:\n",
            "Traceback (most recent call last):\n",
            "  File \"/usr/local/lib/python3.9/dist-packages/sklearn/model_selection/_validation.py\", line 686, in _fit_and_score\n",
            "    estimator.fit(X_train, y_train, **fit_params)\n",
            "  File \"/usr/local/lib/python3.9/dist-packages/sklearn/naive_bayes.py\", line 779, in fit\n",
            "    self._update_class_log_prior(class_prior=class_prior)\n",
            "  File \"/usr/local/lib/python3.9/dist-packages/sklearn/naive_bayes.py\", line 595, in _update_class_log_prior\n",
            "    raise ValueError(\"Number of priors must match number of classes.\")\n",
            "ValueError: Number of priors must match number of classes.\n",
            "\n",
            "  warnings.warn(some_fits_failed_message, FitFailedWarning)\n",
            "/usr/local/lib/python3.9/dist-packages/sklearn/model_selection/_search.py:952: UserWarning: One or more of the test scores are non-finite: [0.9752809  0.9758427         nan        nan        nan        nan\n",
            " 0.9752809  0.9752809         nan        nan        nan        nan\n",
            " 0.97078652 0.97078652        nan        nan        nan        nan\n",
            " 0.95280899 0.95337079        nan        nan        nan        nan\n",
            " 0.92078652 0.92247191        nan        nan        nan        nan]\n",
            "  warnings.warn(\n"
          ]
        }
      ],
      "source": [
        "from sklearn.model_selection import train_test_split, GridSearchCV\n",
        "from sklearn.metrics import classification_report, confusion_matrix\n",
        "\n",
        "# load the data\n",
        "doc1 = pd.DataFrame(doc, columns=['category', 'text'])\n",
        "\n",
        "# split the data into training and testing sets\n",
        "X_train, X_test, y_train, y_test = train_test_split(doc1['text'], doc1['category'], test_size=0.2)\n",
        "\n",
        "# vectorize the text data\n",
        "vectorizer = CountVectorizer(stop_words='english')\n",
        "X_train = vectorizer.fit_transform(X_train)\n",
        "X_test = vectorizer.transform(X_test)\n",
        "\n",
        "# define the hyperparameter grid to search over\n",
        "param_grid = {'alpha': [0.01, 0.1, 1, 10, 100],\n",
        "              'fit_prior': [True, False],\n",
        "              'class_prior': [None, [0.25, 0.25, 0.25, 0.25], [0.4, 0.3, 0.2, 0.1]]}\n",
        "\n",
        "# create a MultinomialNB classifier object\n",
        "Bmodel = MultinomialNB()\n",
        "\n",
        "# perform grid search and find the best hyperparameters\n",
        "grid = GridSearchCV(estimator=Bmodel, param_grid=param_grid, cv=5)\n",
        "grid.fit(X_train, y_train)\n",
        "\n",
        "# print the best hyperparameters and their corresponding scores\n",
        "print(\"Best hyperparameters:\", grid.best_params_)\n",
        "#print(\"Best cross-validation score:\", grid.best_score_)\n",
        "\n",
        "# evaluate the performance of the model with the best hyperparameters on the test set\n",
        "best_model = grid.best_estimator_\n",
        "preds = best_model.predict(X_test)\n",
        "accuracy = np.mean(preds == y_test)\n",
        "print(\"Accuracy:\", accuracy)\n",
        "\n",
        "# print the classification report and confusion matrix\n",
        "training_accuracy = best_model.score(X_train, y_train)\n",
        "print(classification_report(y_test, preds))\n",
        "#print(confusion_matrix(y_test, preds))\n"
      ]
    }
  ],
  "metadata": {
    "colab": {
      "provenance": []
    },
    "kernelspec": {
      "display_name": "Python 3",
      "name": "python3"
    },
    "language_info": {
      "name": "python"
    }
  },
  "nbformat": 4,
  "nbformat_minor": 0
}